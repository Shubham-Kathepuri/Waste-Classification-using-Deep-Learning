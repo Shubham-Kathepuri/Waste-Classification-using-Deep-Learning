{
 "cells": [
  {
   "cell_type": "markdown",
   "metadata": {
    "colab_type": "text",
    "id": "mNNmaqEiN2GL"
   },
   "source": [
    "#**Importing Libraries**"
   ]
  },
  {
   "cell_type": "code",
   "execution_count": 1,
   "metadata": {
    "colab": {
     "base_uri": "https://localhost:8080/",
     "height": 87
    },
    "colab_type": "code",
    "id": "e8XHgW2BKj-o",
    "outputId": "e0bd98df-49a6-4351-a6cd-98851348ab18"
   },
   "outputs": [
    {
     "name": "stderr",
     "output_type": "stream",
     "text": [
      "Using TensorFlow backend.\n",
      "/usr/local/lib/python3.6/dist-packages/statsmodels/tools/_testing.py:19: FutureWarning: pandas.util.testing is deprecated. Use the functions in the public API at pandas.testing instead.\n",
      "  import pandas.util.testing as tm\n"
     ]
    }
   ],
   "source": [
    "import numpy as np\n",
    "import cv2\n",
    "from keras.callbacks import ModelCheckpoint,EarlyStopping\n",
    "from keras.layers import Conv2D, Flatten, MaxPooling2D,Dense,Dropout,BatchNormalization\n",
    "from keras.models  import Sequential\n",
    "from keras.preprocessing.image import ImageDataGenerator, img_to_array, load_img, array_to_img\n",
    "import random,os,glob\n",
    "import matplotlib.pyplot as plt\n",
    "import shutil\n",
    "from keras.applications import ResNet50V2, VGG16\n",
    "import pandas as pd\n",
    "from sklearn.metrics import confusion_matrix\n",
    "from keras import models\n",
    "from keras.optimizers import SGD, Nadam\n",
    "import seaborn as sns\n",
    "import random, os\n",
    "from PIL import Image"
   ]
  },
  {
   "cell_type": "markdown",
   "metadata": {
    "colab_type": "text",
    "id": "I3yOZMuzOCSf"
   },
   "source": [
    "#**Mounting Drive**"
   ]
  },
  {
   "cell_type": "code",
   "execution_count": 2,
   "metadata": {
    "colab": {
     "base_uri": "https://localhost:8080/",
     "height": 121
    },
    "colab_type": "code",
    "id": "-VTKYjCFOB7Z",
    "outputId": "2e5137b7-6dc5-4063-b71d-da8688b38efb"
   },
   "outputs": [
    {
     "name": "stdout",
     "output_type": "stream",
     "text": [
      "Go to this URL in a browser: https://accounts.google.com/o/oauth2/auth?client_id=947318989803-6bn6qk8qdgf4n4g3pfee6491hc0brc4i.apps.googleusercontent.com&redirect_uri=urn%3aietf%3awg%3aoauth%3a2.0%3aoob&response_type=code&scope=email%20https%3a%2f%2fwww.googleapis.com%2fauth%2fdocs.test%20https%3a%2f%2fwww.googleapis.com%2fauth%2fdrive%20https%3a%2f%2fwww.googleapis.com%2fauth%2fdrive.photos.readonly%20https%3a%2f%2fwww.googleapis.com%2fauth%2fpeopleapi.readonly\n",
      "\n",
      "Enter your authorization code:\n",
      "··········\n",
      "Mounted at /content/drive\n"
     ]
    }
   ],
   "source": [
    "from google.colab import drive\n",
    "drive.mount('/content/drive')"
   ]
  },
  {
   "cell_type": "markdown",
   "metadata": {
    "colab_type": "text",
    "id": "-7zJFCKJOJb7"
   },
   "source": [
    "#**Extracting the dataset**"
   ]
  },
  {
   "cell_type": "code",
   "execution_count": 0,
   "metadata": {
    "colab": {},
    "colab_type": "code",
    "id": "_xMOffu5OPi9"
   },
   "outputs": [],
   "source": [
    "import os\n",
    "import zipfile\n",
    "\n",
    "BASE_PATH = '/content'\n",
    "\n",
    "def extract_dataset(path):\n",
    "  #Extracting the dataset from the zip file\n",
    "  zip_ref = zipfile.ZipFile(path, 'r')\n",
    "  zip_ref.extractall(BASE_PATH)\n",
    "  zip_ref.close()"
   ]
  },
  {
   "cell_type": "code",
   "execution_count": 4,
   "metadata": {
    "colab": {
     "base_uri": "https://localhost:8080/",
     "height": 34
    },
    "colab_type": "code",
    "id": "x1sZOirCOVml",
    "outputId": "a84d9c5f-26cf-480e-8009-02ba76e8df75"
   },
   "outputs": [
    {
     "data": {
      "text/plain": [
       "['plastic', 'paper', 'cardboard', 'glass', 'trash', 'metal']"
      ]
     },
     "execution_count": 4,
     "metadata": {
      "tags": []
     },
     "output_type": "execute_result"
    }
   ],
   "source": [
    "extract_dataset('/content/drive/My Drive/Garbage classification.zip')\n",
    "os.listdir(os.path.join(os.getcwd(),\"Garbage classification\"))"
   ]
  },
  {
   "cell_type": "markdown",
   "metadata": {
    "colab_type": "text",
    "id": "eMNEprI-piex"
   },
   "source": [
    "#**Dividing the dataset**\n",
    "Defining the functions\n"
   ]
  },
  {
   "cell_type": "code",
   "execution_count": 0,
   "metadata": {
    "colab": {},
    "colab_type": "code",
    "id": "rWeWZa_tH70u"
   },
   "outputs": [],
   "source": [
    "## helper functions ##\n",
    "\n",
    "## splits indices for a folder into train, validation, and test indices with random sampling\n",
    "    ## input: folder path\n",
    "    ## output: train, valid, and test indices    \n",
    "def split_indices(folder,seed1,seed2):    \n",
    "    n = len(os.listdir(folder))\n",
    "    full_set = list(range(1,n+1))\n",
    "\n",
    "    ## train indices\n",
    "    random.seed(seed1)\n",
    "    train = random.sample(list(range(1,n+1)),int(.7*n))\n",
    "\n",
    "    ## temp\n",
    "    remain = list(set(full_set)-set(train))\n",
    "\n",
    "    ## divide remaining into validation and test\n",
    "    random.seed(seed2)\n",
    "    valid = random.sample(remain,int(.4*len(remain)))\n",
    "    test = list(set(remain)-set(valid))\n",
    "    \n",
    "    return(train,valid,test)\n",
    "\n",
    "## gets file names for a particular type of trash, given indices\n",
    "    ## input: waste category and indices\n",
    "    ## output: file names \n",
    "def get_names(waste_type,indices):\n",
    "    file_names = [waste_type+str(i)+\".jpg\" for i in indices]\n",
    "    return(file_names)    \n",
    "\n",
    "## moves group of source files to another folder\n",
    "    ## input: list of source files and destination folder\n",
    "    ## no output\n",
    "def move_files(source_files,destination_folder):\n",
    "    for file in source_files:\n",
    "        shutil.move(file,destination_folder)"
   ]
  },
  {
   "cell_type": "markdown",
   "metadata": {
    "colab_type": "text",
    "id": "xM43QalRPj4W"
   },
   "source": [
    "Creating Train, Validation and Test dataset"
   ]
  },
  {
   "cell_type": "code",
   "execution_count": 0,
   "metadata": {
    "colab": {},
    "colab_type": "code",
    "id": "rM5YeTgbLXxw"
   },
   "outputs": [],
   "source": [
    "## paths will be train/cardboard, train/glass, etc...\n",
    "subsets = ['train','valid', 'test']\n",
    "waste_types = ['cardboard','glass','metal','paper','plastic','trash']\n",
    "\n",
    "## create destination folders for data subset and waste type\n",
    "for subset in subsets:\n",
    "    for waste_type in waste_types:\n",
    "        folder = os.path.join('data',subset,waste_type)\n",
    "        if not os.path.exists(folder):\n",
    "            os.makedirs(folder)\n",
    "            \n",
    "if not os.path.exists(os.path.join('data','test')):\n",
    "    os.makedirs(os.path.join('data','test'))\n",
    "            \n",
    "folder= os.path.join('data/Random 4x4')\n",
    "os.makedirs(folder)\n",
    "\n",
    "## move files to destination folders for each waste type\n",
    "for waste_type in waste_types:\n",
    "    source_folder = os.path.join('Garbage classification',waste_type)\n",
    "    train_ind, valid_ind, test_ind = split_indices(source_folder,1,1)\n",
    "    \n",
    "    ## move source files to train\n",
    "    train_names = get_names(waste_type,train_ind)\n",
    "    train_source_files = [os.path.join(source_folder,name) for name in train_names]\n",
    "    train_dest = \"data/train/\"+waste_type\n",
    "    move_files(train_source_files,train_dest)\n",
    "    \n",
    "    ## move source files to valid\n",
    "    valid_names = get_names(waste_type,valid_ind)\n",
    "    valid_source_files = [os.path.join(source_folder,name) for name in valid_names]\n",
    "    valid_dest = \"data/valid/\"+waste_type\n",
    "    move_files(valid_source_files,valid_dest)\n",
    "    \n",
    "    ## move source files to test\n",
    "    test_names = get_names(waste_type,test_ind)\n",
    "    test_source_files = [os.path.join(source_folder,name) for name in test_names]\n",
    "    test_dest = \"data/test/\"+waste_type\n",
    "    move_files(test_source_files, test_dest)"
   ]
  },
  {
   "cell_type": "markdown",
   "metadata": {
    "colab_type": "text",
    "id": "Ng32KNfoptI3"
   },
   "source": [
    "# **Image Augmentation**\n"
   ]
  },
  {
   "cell_type": "code",
   "execution_count": 7,
   "metadata": {
    "colab": {
     "base_uri": "https://localhost:8080/",
     "height": 67
    },
    "colab_type": "code",
    "id": "4DaIHllJqdY1",
    "outputId": "5a4da9f8-51f5-4e92-8539-1f7e1388d31f"
   },
   "outputs": [
    {
     "name": "stdout",
     "output_type": "stream",
     "text": [
      "Found 1766 images belonging to 6 classes.\n",
      "Found 302 images belonging to 6 classes.\n",
      "Found 459 images belonging to 6 classes.\n"
     ]
    }
   ],
   "source": [
    "image_size=224\n",
    "image_augment=ImageDataGenerator(horizontal_flip=True, vertical_flip=True,rescale=1./255,\n",
    "                         shear_range = 0.1,zoom_range = 0.1,\n",
    "                         width_shift_range = 0.1,\n",
    "                         height_shift_range = 0.1,)\n",
    "\n",
    "\n",
    "#-----------------------------------------------------------------------------------------\n",
    "\n",
    "train_generator = image_augment.flow_from_directory(\n",
    "                                        directory=\"data/train/\",\n",
    "                                        target_size=(image_size, image_size),\n",
    "                                        batch_size=32,\n",
    "                                        color_mode= 'rgb',\n",
    "                                        class_mode=\"categorical\", #try using  sparse\n",
    "                                        shuffle=False,\n",
    "                                        seed=42)\n",
    "\n",
    "validation_generator =  image_augment.flow_from_directory(\n",
    "                                        directory=\"data/valid/\",\n",
    "                                        target_size=(image_size, image_size),\n",
    "                                        batch_size=32,\n",
    "                                        color_mode= 'rgb',\n",
    "                                        class_mode=\"categorical\",\n",
    "                                        shuffle=False,\n",
    "                                        seed=42)\n",
    "\n",
    "test_generator = image_augment.flow_from_directory(\n",
    "                                        directory=\"data/test/\",\n",
    "                                        target_size=(image_size, image_size),\n",
    "                                        batch_size=32,\n",
    "                                        color_mode= 'rgb',\n",
    "                                        class_mode=\"categorical\",\n",
    "                                        shuffle=False,\n",
    "                                        seed=42)\n",
    "\n",
    "\n",
    "#-------------------------------------------------------------------------------------------\n"
   ]
  },
  {
   "cell_type": "markdown",
   "metadata": {
    "colab_type": "text",
    "id": "kDTIt8R_eOVw"
   },
   "source": [
    "#**CNN**\n",
    "\n",
    "Model Building"
   ]
  },
  {
   "cell_type": "code",
   "execution_count": 9,
   "metadata": {
    "colab": {
     "base_uri": "https://localhost:8080/",
     "height": 487
    },
    "colab_type": "code",
    "id": "RR-ERazH4Iek",
    "outputId": "46864d72-15fe-4eff-9e6a-6c921ce427d0"
   },
   "outputs": [
    {
     "name": "stdout",
     "output_type": "stream",
     "text": [
      "Model: \"sequential_1\"\n",
      "_________________________________________________________________\n",
      "Layer (type)                 Output Shape              Param #   \n",
      "=================================================================\n",
      "conv2d_1 (Conv2D)            (None, 224, 224, 32)      896       \n",
      "_________________________________________________________________\n",
      "max_pooling2d_1 (MaxPooling2 (None, 112, 112, 32)      0         \n",
      "_________________________________________________________________\n",
      "conv2d_2 (Conv2D)            (None, 112, 112, 64)      18496     \n",
      "_________________________________________________________________\n",
      "max_pooling2d_2 (MaxPooling2 (None, 56, 56, 64)        0         \n",
      "_________________________________________________________________\n",
      "conv2d_3 (Conv2D)            (None, 56, 56, 32)        18464     \n",
      "_________________________________________________________________\n",
      "max_pooling2d_3 (MaxPooling2 (None, 28, 28, 32)        0         \n",
      "_________________________________________________________________\n",
      "flatten_1 (Flatten)          (None, 25088)             0         \n",
      "_________________________________________________________________\n",
      "dense_1 (Dense)              (None, 64)                1605696   \n",
      "_________________________________________________________________\n",
      "dropout_1 (Dropout)          (None, 64)                0         \n",
      "_________________________________________________________________\n",
      "dense_2 (Dense)              (None, 6)                 390       \n",
      "=================================================================\n",
      "Total params: 1,643,942\n",
      "Trainable params: 1,643,942\n",
      "Non-trainable params: 0\n",
      "_________________________________________________________________\n"
     ]
    }
   ],
   "source": [
    "#------------------------------------- CNN  -----------------------------------\n",
    "\n",
    "model=Sequential()\n",
    "\n",
    "model.add(Conv2D(32,(3,3), padding='same', input_shape=(image_size,image_size,3),activation='relu'))\n",
    "model.add(MaxPooling2D(pool_size=(2,2))) \n",
    "model.add(Conv2D(64,(3,3), padding='same', activation='relu'))\n",
    "model.add(MaxPooling2D(pool_size=(2,2))) \n",
    "model.add(Conv2D(32,(3,3), padding='same', activation='relu'))\n",
    "model.add(MaxPooling2D(pool_size=(2,2))) \n",
    "model.add(Flatten())\n",
    "model.add(Dense(64,activation='relu'))\n",
    "model.add(Dropout(0.5))\n",
    "model.add(Dense(6,activation='softmax'))  # 1\n",
    "\n",
    "#-------------- Epoch= 94 loss: 1.0536 - acc: 0.5865 - val_loss: 1.1179 - val_acc: 0.6710 ------------------ Conv 32 x 64 x 32--\n",
    "\n",
    "model.compile(loss='categorical_crossentropy', optimizer='adam', metrics=['acc'])\n",
    "\n",
    "model.summary()"
   ]
  },
  {
   "cell_type": "code",
   "execution_count": 10,
   "metadata": {
    "colab": {
     "base_uri": "https://localhost:8080/",
     "height": 50
    },
    "colab_type": "code",
    "id": "OQNhNbiocm5C",
    "outputId": "79b8ab14-bdd8-4b94-bf3f-d39872f79db5"
   },
   "outputs": [
    {
     "name": "stdout",
     "output_type": "stream",
     "text": [
      "Train step:  55\n",
      "Validation step:  9\n"
     ]
    }
   ],
   "source": [
    "train_step = train_generator.n//train_generator.batch_size\n",
    "val_step = validation_generator.n//validation_generator.batch_size\n",
    "print(\"Train step: \", train_step)\n",
    "print(\"Validation step: \", val_step)"
   ]
  },
  {
   "cell_type": "markdown",
   "metadata": {
    "colab_type": "text",
    "id": "Zvz8eAUyQ79X"
   },
   "source": [
    " Model training"
   ]
  },
  {
   "cell_type": "code",
   "execution_count": 11,
   "metadata": {
    "colab": {
     "base_uri": "https://localhost:8080/",
     "height": 1000
    },
    "colab_type": "code",
    "id": "uPq6ksc4cm5J",
    "outputId": "dc203b7a-d676-4b0f-9144-49785ef95d27"
   },
   "outputs": [
    {
     "name": "stdout",
     "output_type": "stream",
     "text": [
      "Epoch 1/100\n",
      "55/55 [==============================] - 30s 539ms/step - loss: 1.9256 - acc: 0.1661 - val_loss: 1.7917 - val_acc: 0.2465\n",
      "\n",
      "Epoch 00001: val_acc improved from -inf to 0.24653, saving model to cnn_checkpoint.h5\n",
      "Epoch 2/100\n",
      "55/55 [==============================] - 28s 511ms/step - loss: 1.8037 - acc: 0.2047 - val_loss: 1.7985 - val_acc: 0.2778\n",
      "\n",
      "Epoch 00002: val_acc improved from 0.24653 to 0.27778, saving model to cnn_checkpoint.h5\n",
      "Epoch 3/100\n",
      "55/55 [==============================] - 28s 506ms/step - loss: 1.8271 - acc: 0.1471 - val_loss: 1.4464 - val_acc: 0.2222\n",
      "\n",
      "Epoch 00003: val_acc did not improve from 0.27778\n",
      "Epoch 4/100\n",
      "55/55 [==============================] - 27s 493ms/step - loss: 1.7996 - acc: 0.2584 - val_loss: 1.8710 - val_acc: 0.2222\n",
      "\n",
      "Epoch 00004: val_acc did not improve from 0.27778\n",
      "Epoch 5/100\n",
      "55/55 [==============================] - 27s 493ms/step - loss: 1.8127 - acc: 0.2261 - val_loss: 1.7850 - val_acc: 0.1444\n",
      "\n",
      "Epoch 00005: val_acc did not improve from 0.27778\n",
      "Epoch 6/100\n",
      "55/55 [==============================] - 26s 474ms/step - loss: 1.7910 - acc: 0.2416 - val_loss: 1.5916 - val_acc: 0.2148\n",
      "\n",
      "Epoch 00006: val_acc did not improve from 0.27778\n",
      "Epoch 7/100\n",
      "55/55 [==============================] - 26s 474ms/step - loss: 1.7815 - acc: 0.2157 - val_loss: 1.7614 - val_acc: 0.2630\n",
      "\n",
      "Epoch 00007: val_acc did not improve from 0.27778\n",
      "Epoch 8/100\n",
      "55/55 [==============================] - 26s 467ms/step - loss: 1.7766 - acc: 0.2393 - val_loss: 1.7703 - val_acc: 0.2630\n",
      "\n",
      "Epoch 00008: val_acc did not improve from 0.27778\n",
      "Epoch 9/100\n",
      "55/55 [==============================] - 26s 480ms/step - loss: 1.7673 - acc: 0.2209 - val_loss: 1.7832 - val_acc: 0.2630\n",
      "\n",
      "Epoch 00009: val_acc did not improve from 0.27778\n",
      "Epoch 10/100\n",
      "55/55 [==============================] - 27s 482ms/step - loss: 1.7683 - acc: 0.2197 - val_loss: 2.0258 - val_acc: 0.2630\n",
      "\n",
      "Epoch 00010: val_acc did not improve from 0.27778\n",
      "Epoch 11/100\n",
      "55/55 [==============================] - 26s 481ms/step - loss: 1.7671 - acc: 0.2388 - val_loss: 1.7699 - val_acc: 0.2812\n",
      "\n",
      "Epoch 00011: val_acc improved from 0.27778 to 0.28125, saving model to cnn_checkpoint.h5\n",
      "Epoch 12/100\n",
      "55/55 [==============================] - 29s 530ms/step - loss: 1.7460 - acc: 0.2076 - val_loss: 1.7008 - val_acc: 0.2222\n",
      "\n",
      "Epoch 00012: val_acc did not improve from 0.28125\n",
      "Epoch 13/100\n",
      "55/55 [==============================] - 26s 472ms/step - loss: 1.7927 - acc: 0.2376 - val_loss: 1.6532 - val_acc: 0.2481\n",
      "\n",
      "Epoch 00013: val_acc did not improve from 0.28125\n",
      "Epoch 14/100\n",
      "55/55 [==============================] - 28s 501ms/step - loss: 1.7375 - acc: 0.2648 - val_loss: 1.3452 - val_acc: 0.1444\n",
      "\n",
      "Epoch 00014: val_acc did not improve from 0.28125\n",
      "Epoch 15/100\n",
      "55/55 [==============================] - 27s 486ms/step - loss: 1.7843 - acc: 0.2254 - val_loss: 1.7847 - val_acc: 0.1481\n",
      "\n",
      "Epoch 00015: val_acc did not improve from 0.28125\n",
      "Epoch 16/100\n",
      "55/55 [==============================] - 27s 494ms/step - loss: 1.7549 - acc: 0.2278 - val_loss: 1.7397 - val_acc: 0.2926\n",
      "\n",
      "Epoch 00016: val_acc improved from 0.28125 to 0.29259, saving model to cnn_checkpoint.h5\n",
      "Epoch 17/100\n",
      "55/55 [==============================] - 27s 485ms/step - loss: 1.7182 - acc: 0.2970 - val_loss: 1.5118 - val_acc: 0.2852\n",
      "\n",
      "Epoch 00017: val_acc did not improve from 0.29259\n",
      "Epoch 18/100\n",
      "55/55 [==============================] - 26s 476ms/step - loss: 1.7606 - acc: 0.2576 - val_loss: 1.7210 - val_acc: 0.2741\n",
      "\n",
      "Epoch 00018: val_acc did not improve from 0.29259\n",
      "Epoch 19/100\n",
      "55/55 [==============================] - 26s 479ms/step - loss: 1.7327 - acc: 0.2572 - val_loss: 1.8622 - val_acc: 0.2963\n",
      "\n",
      "Epoch 00019: val_acc improved from 0.29259 to 0.29630, saving model to cnn_checkpoint.h5\n",
      "Epoch 20/100\n",
      "55/55 [==============================] - 26s 479ms/step - loss: 1.7087 - acc: 0.2463 - val_loss: 2.2638 - val_acc: 0.3074\n",
      "\n",
      "Epoch 00020: val_acc improved from 0.29630 to 0.30741, saving model to cnn_checkpoint.h5\n",
      "Epoch 21/100\n",
      "55/55 [==============================] - 27s 492ms/step - loss: 1.7320 - acc: 0.2826 - val_loss: 1.7509 - val_acc: 0.2882\n",
      "\n",
      "Epoch 00021: val_acc did not improve from 0.30741\n",
      "Epoch 22/100\n",
      "55/55 [==============================] - 30s 548ms/step - loss: 1.6880 - acc: 0.2659 - val_loss: 1.6859 - val_acc: 0.2926\n",
      "\n",
      "Epoch 00022: val_acc did not improve from 0.30741\n",
      "Epoch 23/100\n",
      "55/55 [==============================] - 25s 463ms/step - loss: 1.8530 - acc: 0.3378 - val_loss: 1.5440 - val_acc: 0.2889\n",
      "\n",
      "Epoch 00023: val_acc did not improve from 0.30741\n",
      "Epoch 24/100\n",
      "55/55 [==============================] - 27s 484ms/step - loss: 1.7292 - acc: 0.2364 - val_loss: 1.5467 - val_acc: 0.1889\n",
      "\n",
      "Epoch 00024: val_acc did not improve from 0.30741\n",
      "Epoch 25/100\n",
      "55/55 [==============================] - 26s 467ms/step - loss: 1.7411 - acc: 0.2506 - val_loss: 1.7275 - val_acc: 0.1889\n",
      "\n",
      "Epoch 00025: val_acc did not improve from 0.30741\n",
      "Epoch 26/100\n",
      "55/55 [==============================] - 27s 483ms/step - loss: 1.6677 - acc: 0.3165 - val_loss: 1.6691 - val_acc: 0.2963\n",
      "\n",
      "Epoch 00026: val_acc did not improve from 0.30741\n",
      "Epoch 27/100\n",
      "55/55 [==============================] - 26s 468ms/step - loss: 1.7363 - acc: 0.2612 - val_loss: 1.4441 - val_acc: 0.2926\n",
      "\n",
      "Epoch 00027: val_acc did not improve from 0.30741\n",
      "Epoch 28/100\n",
      "55/55 [==============================] - 26s 466ms/step - loss: 1.6723 - acc: 0.3281 - val_loss: 1.6999 - val_acc: 0.2778\n",
      "\n",
      "Epoch 00028: val_acc did not improve from 0.30741\n",
      "Epoch 29/100\n",
      "55/55 [==============================] - 25s 455ms/step - loss: 1.7646 - acc: 0.2237 - val_loss: 2.1758 - val_acc: 0.3037\n",
      "\n",
      "Epoch 00029: val_acc did not improve from 0.30741\n",
      "Epoch 30/100\n",
      "55/55 [==============================] - 26s 476ms/step - loss: 1.6788 - acc: 0.2982 - val_loss: 2.3841 - val_acc: 0.2963\n",
      "\n",
      "Epoch 00030: val_acc did not improve from 0.30741\n",
      "Epoch 31/100\n",
      "55/55 [==============================] - 27s 483ms/step - loss: 1.7052 - acc: 0.2774 - val_loss: 1.7426 - val_acc: 0.2847\n",
      "\n",
      "Epoch 00031: val_acc did not improve from 0.30741\n",
      "Epoch 32/100\n",
      "55/55 [==============================] - 30s 540ms/step - loss: 1.6813 - acc: 0.3426 - val_loss: 1.6706 - val_acc: 0.3148\n",
      "\n",
      "Epoch 00032: val_acc improved from 0.30741 to 0.31481, saving model to cnn_checkpoint.h5\n",
      "Epoch 33/100\n",
      "55/55 [==============================] - 26s 469ms/step - loss: 1.6940 - acc: 0.2393 - val_loss: 1.4800 - val_acc: 0.2852\n",
      "\n",
      "Epoch 00033: val_acc did not improve from 0.31481\n",
      "Epoch 34/100\n",
      "55/55 [==============================] - 26s 467ms/step - loss: 1.7451 - acc: 0.2243 - val_loss: 1.4952 - val_acc: 0.2148\n",
      "\n",
      "Epoch 00034: val_acc did not improve from 0.31481\n",
      "Epoch 35/100\n",
      "55/55 [==============================] - 26s 466ms/step - loss: 1.6528 - acc: 0.3155 - val_loss: 1.6629 - val_acc: 0.2037\n",
      "\n",
      "Epoch 00035: val_acc did not improve from 0.31481\n",
      "Epoch 36/100\n",
      "55/55 [==============================] - 26s 469ms/step - loss: 1.6826 - acc: 0.2705 - val_loss: 1.4737 - val_acc: 0.2778\n",
      "\n",
      "Epoch 00036: val_acc did not improve from 0.31481\n",
      "Epoch 37/100\n",
      "55/55 [==============================] - 26s 470ms/step - loss: 1.6900 - acc: 0.3737 - val_loss: 1.5939 - val_acc: 0.2963\n",
      "\n",
      "Epoch 00037: val_acc did not improve from 0.31481\n",
      "Epoch 38/100\n",
      "55/55 [==============================] - 26s 466ms/step - loss: 1.7561 - acc: 0.2055 - val_loss: 1.6790 - val_acc: 0.3037\n",
      "\n",
      "Epoch 00038: val_acc did not improve from 0.31481\n",
      "Epoch 39/100\n",
      "55/55 [==============================] - 26s 476ms/step - loss: 1.7090 - acc: 0.3034 - val_loss: 1.7647 - val_acc: 0.2852\n",
      "\n",
      "Epoch 00039: val_acc did not improve from 0.31481\n",
      "Epoch 40/100\n",
      "55/55 [==============================] - 26s 468ms/step - loss: 1.7091 - acc: 0.2785 - val_loss: 2.4031 - val_acc: 0.2852\n",
      "\n",
      "Epoch 00040: val_acc did not improve from 0.31481\n",
      "Epoch 41/100\n",
      "55/55 [==============================] - 27s 488ms/step - loss: 1.6943 - acc: 0.2803 - val_loss: 1.7042 - val_acc: 0.2743\n",
      "\n",
      "Epoch 00041: val_acc did not improve from 0.31481\n",
      "Epoch 42/100\n",
      "55/55 [==============================] - 30s 553ms/step - loss: 1.7073 - acc: 0.2699 - val_loss: 1.6474 - val_acc: 0.3037\n",
      "\n",
      "Epoch 00042: val_acc did not improve from 0.31481\n",
      "Epoch 43/100\n",
      "55/55 [==============================] - 27s 484ms/step - loss: 1.6694 - acc: 0.2901 - val_loss: 1.4961 - val_acc: 0.3111\n",
      "\n",
      "Epoch 00043: val_acc did not improve from 0.31481\n",
      "Epoch 44/100\n",
      "55/55 [==============================] - 26s 471ms/step - loss: 1.6916 - acc: 0.2762 - val_loss: 1.4573 - val_acc: 0.2556\n",
      "\n",
      "Epoch 00044: val_acc did not improve from 0.31481\n",
      "Epoch 45/100\n",
      "55/55 [==============================] - 26s 477ms/step - loss: 1.6976 - acc: 0.3408 - val_loss: 1.6876 - val_acc: 0.1963\n",
      "\n",
      "Epoch 00045: val_acc did not improve from 0.31481\n",
      "Epoch 46/100\n",
      "55/55 [==============================] - 26s 476ms/step - loss: 1.6416 - acc: 0.3189 - val_loss: 1.6051 - val_acc: 0.3185\n",
      "\n",
      "Epoch 00046: val_acc improved from 0.31481 to 0.31852, saving model to cnn_checkpoint.h5\n",
      "Epoch 47/100\n",
      "55/55 [==============================] - 27s 483ms/step - loss: 1.6543 - acc: 0.3183 - val_loss: 1.5620 - val_acc: 0.3519\n",
      "\n",
      "Epoch 00047: val_acc improved from 0.31852 to 0.35185, saving model to cnn_checkpoint.h5\n",
      "Epoch 48/100\n",
      "55/55 [==============================] - 27s 484ms/step - loss: 1.6530 - acc: 0.2832 - val_loss: 1.7080 - val_acc: 0.2778\n",
      "\n",
      "Epoch 00048: val_acc did not improve from 0.35185\n",
      "Epoch 49/100\n",
      "55/55 [==============================] - 27s 490ms/step - loss: 1.6695 - acc: 0.3218 - val_loss: 1.5987 - val_acc: 0.3148\n",
      "\n",
      "Epoch 00049: val_acc did not improve from 0.35185\n",
      "Epoch 50/100\n",
      "55/55 [==============================] - 26s 480ms/step - loss: 1.5910 - acc: 0.3973 - val_loss: 2.8045 - val_acc: 0.3074\n",
      "\n",
      "Epoch 00050: val_acc did not improve from 0.35185\n",
      "Epoch 51/100\n",
      "55/55 [==============================] - 27s 497ms/step - loss: 1.7180 - acc: 0.2509 - val_loss: 1.6562 - val_acc: 0.3125\n",
      "\n",
      "Epoch 00051: val_acc did not improve from 0.35185\n",
      "Epoch 52/100\n",
      "55/55 [==============================] - 30s 548ms/step - loss: 1.6633 - acc: 0.3230 - val_loss: 1.6143 - val_acc: 0.3407\n",
      "\n",
      "Epoch 00052: val_acc did not improve from 0.35185\n",
      "Epoch 53/100\n",
      "55/55 [==============================] - 27s 486ms/step - loss: 1.7110 - acc: 0.2601 - val_loss: 1.3796 - val_acc: 0.3407\n",
      "\n",
      "Epoch 00053: val_acc did not improve from 0.35185\n",
      "Epoch 54/100\n",
      "55/55 [==============================] - 27s 484ms/step - loss: 1.6717 - acc: 0.3247 - val_loss: 1.3942 - val_acc: 0.2296\n",
      "\n",
      "Epoch 00054: val_acc did not improve from 0.35185\n",
      "Epoch 55/100\n",
      "55/55 [==============================] - 26s 481ms/step - loss: 1.6530 - acc: 0.3224 - val_loss: 1.4125 - val_acc: 0.2519\n",
      "\n",
      "Epoch 00055: val_acc did not improve from 0.35185\n",
      "Epoch 56/100\n",
      "55/55 [==============================] - 26s 474ms/step - loss: 1.6106 - acc: 0.3431 - val_loss: 1.5575 - val_acc: 0.3556\n",
      "\n",
      "Epoch 00056: val_acc improved from 0.35185 to 0.35556, saving model to cnn_checkpoint.h5\n",
      "Epoch 57/100\n",
      "55/55 [==============================] - 26s 466ms/step - loss: 1.6233 - acc: 0.3478 - val_loss: 1.5226 - val_acc: 0.3556\n",
      "\n",
      "Epoch 00057: val_acc did not improve from 0.35556\n",
      "Epoch 58/100\n",
      "55/55 [==============================] - 27s 494ms/step - loss: 1.7610 - acc: 0.3137 - val_loss: 1.7873 - val_acc: 0.2704\n",
      "\n",
      "Epoch 00058: val_acc did not improve from 0.35556\n",
      "Epoch 59/100\n",
      "55/55 [==============================] - 27s 488ms/step - loss: 1.6637 - acc: 0.3028 - val_loss: 1.8535 - val_acc: 0.3111\n",
      "\n",
      "Epoch 00059: val_acc did not improve from 0.35556\n",
      "Epoch 60/100\n",
      "55/55 [==============================] - 26s 476ms/step - loss: 1.6229 - acc: 0.3627 - val_loss: 2.5082 - val_acc: 0.3000\n",
      "\n",
      "Epoch 00060: val_acc did not improve from 0.35556\n",
      "Epoch 61/100\n",
      "55/55 [==============================] - 27s 493ms/step - loss: 1.6379 - acc: 0.3155 - val_loss: 1.5349 - val_acc: 0.3507\n",
      "\n",
      "Epoch 00061: val_acc did not improve from 0.35556\n",
      "Epoch 62/100\n",
      "55/55 [==============================] - 29s 535ms/step - loss: 1.5778 - acc: 0.3466 - val_loss: 1.4660 - val_acc: 0.3074\n",
      "\n",
      "Epoch 00062: val_acc did not improve from 0.35556\n",
      "Epoch 63/100\n",
      "55/55 [==============================] - 28s 504ms/step - loss: 1.5676 - acc: 0.4014 - val_loss: 1.2702 - val_acc: 0.3815\n",
      "\n",
      "Epoch 00063: val_acc improved from 0.35556 to 0.38148, saving model to cnn_checkpoint.h5\n",
      "Epoch 64/100\n",
      "55/55 [==============================] - 27s 497ms/step - loss: 1.5661 - acc: 0.3466 - val_loss: 1.2348 - val_acc: 0.3556\n",
      "\n",
      "Epoch 00064: val_acc did not improve from 0.38148\n",
      "Epoch 65/100\n",
      "55/55 [==============================] - 27s 487ms/step - loss: 1.5456 - acc: 0.4037 - val_loss: 1.6161 - val_acc: 0.4111\n",
      "\n",
      "Epoch 00065: val_acc improved from 0.38148 to 0.41111, saving model to cnn_checkpoint.h5\n",
      "Epoch 66/100\n",
      "55/55 [==============================] - 27s 483ms/step - loss: 1.6139 - acc: 0.3630 - val_loss: 1.5069 - val_acc: 0.3667\n",
      "\n",
      "Epoch 00066: val_acc did not improve from 0.41111\n",
      "Epoch 67/100\n",
      "55/55 [==============================] - 27s 485ms/step - loss: 1.5292 - acc: 0.3916 - val_loss: 1.4915 - val_acc: 0.4185\n",
      "\n",
      "Epoch 00067: val_acc improved from 0.41111 to 0.41852, saving model to cnn_checkpoint.h5\n",
      "Epoch 68/100\n",
      "55/55 [==============================] - 27s 500ms/step - loss: 1.4499 - acc: 0.4383 - val_loss: 1.2662 - val_acc: 0.4667\n",
      "\n",
      "Epoch 00068: val_acc improved from 0.41852 to 0.46667, saving model to cnn_checkpoint.h5\n",
      "Epoch 69/100\n",
      "55/55 [==============================] - 27s 488ms/step - loss: 1.4852 - acc: 0.4366 - val_loss: 1.2300 - val_acc: 0.4296\n",
      "\n",
      "Epoch 00069: val_acc did not improve from 0.46667\n",
      "Epoch 70/100\n",
      "55/55 [==============================] - 27s 493ms/step - loss: 1.5261 - acc: 0.3858 - val_loss: 2.6560 - val_acc: 0.4704\n",
      "\n",
      "Epoch 00070: val_acc improved from 0.46667 to 0.47037, saving model to cnn_checkpoint.h5\n",
      "Epoch 71/100\n",
      "55/55 [==============================] - 27s 497ms/step - loss: 1.4529 - acc: 0.4210 - val_loss: 1.3736 - val_acc: 0.4896\n",
      "\n",
      "Epoch 00071: val_acc improved from 0.47037 to 0.48958, saving model to cnn_checkpoint.h5\n",
      "Epoch 72/100\n",
      "55/55 [==============================] - 30s 542ms/step - loss: 1.4234 - acc: 0.4256 - val_loss: 1.2298 - val_acc: 0.3926\n",
      "\n",
      "Epoch 00072: val_acc did not improve from 0.48958\n",
      "Epoch 73/100\n",
      "55/55 [==============================] - 27s 489ms/step - loss: 1.4102 - acc: 0.4406 - val_loss: 1.2505 - val_acc: 0.4593\n",
      "\n",
      "Epoch 00073: val_acc did not improve from 0.48958\n",
      "Epoch 74/100\n",
      "55/55 [==============================] - 27s 484ms/step - loss: 1.4296 - acc: 0.4239 - val_loss: 1.2688 - val_acc: 0.4481\n",
      "\n",
      "Epoch 00074: val_acc did not improve from 0.48958\n",
      "Epoch 75/100\n",
      "55/55 [==============================] - 27s 484ms/step - loss: 1.3928 - acc: 0.4671 - val_loss: 1.4131 - val_acc: 0.4630\n",
      "\n",
      "Epoch 00075: val_acc did not improve from 0.48958\n",
      "Epoch 76/100\n",
      "55/55 [==============================] - 27s 483ms/step - loss: 1.3523 - acc: 0.4683 - val_loss: 1.5629 - val_acc: 0.4963\n",
      "\n",
      "Epoch 00076: val_acc improved from 0.48958 to 0.49630, saving model to cnn_checkpoint.h5\n",
      "Epoch 77/100\n",
      "55/55 [==============================] - 27s 490ms/step - loss: 1.3566 - acc: 0.4452 - val_loss: 1.5313 - val_acc: 0.4556\n",
      "\n",
      "Epoch 00077: val_acc did not improve from 0.49630\n",
      "Epoch 78/100\n",
      "55/55 [==============================] - 27s 492ms/step - loss: 1.3470 - acc: 0.4568 - val_loss: 1.6485 - val_acc: 0.4593\n",
      "\n",
      "Epoch 00078: val_acc did not improve from 0.49630\n",
      "Epoch 79/100\n",
      "55/55 [==============================] - 27s 488ms/step - loss: 1.3655 - acc: 0.4731 - val_loss: 0.9557 - val_acc: 0.4630\n",
      "\n",
      "Epoch 00079: val_acc did not improve from 0.49630\n",
      "Epoch 80/100\n",
      "55/55 [==============================] - 26s 482ms/step - loss: 1.3397 - acc: 0.4544 - val_loss: 2.1925 - val_acc: 0.4481\n",
      "\n",
      "Epoch 00080: val_acc did not improve from 0.49630\n",
      "Epoch 81/100\n",
      "55/55 [==============================] - 27s 500ms/step - loss: 1.3152 - acc: 0.4948 - val_loss: 1.4105 - val_acc: 0.5000\n",
      "\n",
      "Epoch 00081: val_acc improved from 0.49630 to 0.50000, saving model to cnn_checkpoint.h5\n",
      "Epoch 82/100\n",
      "55/55 [==============================] - 30s 539ms/step - loss: 1.3172 - acc: 0.4775 - val_loss: 1.3167 - val_acc: 0.4519\n",
      "\n",
      "Epoch 00082: val_acc did not improve from 0.50000\n",
      "Epoch 83/100\n",
      "55/55 [==============================] - 26s 480ms/step - loss: 1.3597 - acc: 0.4510 - val_loss: 1.0060 - val_acc: 0.5000\n",
      "\n",
      "Epoch 00083: val_acc did not improve from 0.50000\n",
      "Epoch 84/100\n",
      "55/55 [==============================] - 26s 478ms/step - loss: 1.3389 - acc: 0.4781 - val_loss: 0.9993 - val_acc: 0.4630\n",
      "\n",
      "Epoch 00084: val_acc did not improve from 0.50000\n",
      "Epoch 85/100\n",
      "55/55 [==============================] - 27s 489ms/step - loss: 1.2282 - acc: 0.4966 - val_loss: 1.2234 - val_acc: 0.5000\n",
      "\n",
      "Epoch 00085: val_acc did not improve from 0.50000\n",
      "Epoch 86/100\n",
      "55/55 [==============================] - 26s 479ms/step - loss: 1.2444 - acc: 0.4988 - val_loss: 1.4523 - val_acc: 0.5444\n",
      "\n",
      "Epoch 00086: val_acc improved from 0.50000 to 0.54444, saving model to cnn_checkpoint.h5\n",
      "Epoch 87/100\n",
      "55/55 [==============================] - 26s 479ms/step - loss: 1.2672 - acc: 0.4859 - val_loss: 1.6403 - val_acc: 0.5370\n",
      "\n",
      "Epoch 00087: val_acc did not improve from 0.54444\n",
      "Epoch 88/100\n",
      "55/55 [==============================] - 27s 487ms/step - loss: 1.2166 - acc: 0.5040 - val_loss: 1.1816 - val_acc: 0.5259\n",
      "\n",
      "Epoch 00088: val_acc did not improve from 0.54444\n",
      "Epoch 89/100\n",
      "55/55 [==============================] - 26s 474ms/step - loss: 1.2556 - acc: 0.5173 - val_loss: 0.9906 - val_acc: 0.5185\n",
      "\n",
      "Epoch 00089: val_acc did not improve from 0.54444\n",
      "Epoch 90/100\n",
      "55/55 [==============================] - 26s 465ms/step - loss: 1.2481 - acc: 0.5059 - val_loss: 1.9468 - val_acc: 0.5222\n",
      "\n",
      "Epoch 00090: val_acc did not improve from 0.54444\n",
      "Epoch 91/100\n",
      "55/55 [==============================] - 26s 480ms/step - loss: 1.2090 - acc: 0.5277 - val_loss: 1.0260 - val_acc: 0.5590\n",
      "\n",
      "Epoch 00091: val_acc improved from 0.54444 to 0.55903, saving model to cnn_checkpoint.h5\n",
      "Epoch 92/100\n",
      "55/55 [==============================] - 29s 523ms/step - loss: 1.1878 - acc: 0.5363 - val_loss: 1.5328 - val_acc: 0.5222\n",
      "\n",
      "Epoch 00092: val_acc did not improve from 0.55903\n",
      "Epoch 93/100\n",
      "55/55 [==============================] - 26s 471ms/step - loss: 1.2679 - acc: 0.4795 - val_loss: 0.7503 - val_acc: 0.5333\n",
      "\n",
      "Epoch 00093: val_acc did not improve from 0.55903\n",
      "Epoch 94/100\n",
      "55/55 [==============================] - 26s 473ms/step - loss: 1.1703 - acc: 0.5363 - val_loss: 0.9210 - val_acc: 0.5222\n",
      "\n",
      "Epoch 00094: val_acc did not improve from 0.55903\n",
      "Epoch 95/100\n",
      "55/55 [==============================] - 26s 471ms/step - loss: 1.2060 - acc: 0.5246 - val_loss: 1.1844 - val_acc: 0.5519\n",
      "\n",
      "Epoch 00095: val_acc did not improve from 0.55903\n",
      "Epoch 96/100\n",
      "55/55 [==============================] - 27s 496ms/step - loss: 1.1681 - acc: 0.5460 - val_loss: 1.3417 - val_acc: 0.5370\n",
      "\n",
      "Epoch 00096: val_acc did not improve from 0.55903\n",
      "Epoch 97/100\n",
      "55/55 [==============================] - 27s 485ms/step - loss: 1.1614 - acc: 0.5486 - val_loss: 1.3669 - val_acc: 0.5185\n",
      "\n",
      "Epoch 00097: val_acc did not improve from 0.55903\n",
      "Epoch 98/100\n",
      "55/55 [==============================] - 27s 499ms/step - loss: 1.2251 - acc: 0.5216 - val_loss: 1.4218 - val_acc: 0.5481\n",
      "\n",
      "Epoch 00098: val_acc did not improve from 0.55903\n",
      "Epoch 99/100\n",
      "55/55 [==============================] - 26s 476ms/step - loss: 1.2259 - acc: 0.5170 - val_loss: 1.1153 - val_acc: 0.5333\n",
      "\n",
      "Epoch 00099: val_acc did not improve from 0.55903\n",
      "Epoch 100/100\n",
      "55/55 [==============================] - 27s 490ms/step - loss: 1.1404 - acc: 0.5551 - val_loss: 2.0499 - val_acc: 0.4926\n",
      "\n",
      "Epoch 00100: val_acc did not improve from 0.55903\n"
     ]
    }
   ],
   "source": [
    "es = EarlyStopping(monitor='val_loss', mode='min', verbose=1, patience=15)\n",
    "mc = ModelCheckpoint('cnn_checkpoint.h5', monitor='val_acc', mode='max', verbose=1, save_best_only=True)\n",
    "\n",
    "cnn = model.fit(train_generator, epochs=100, steps_per_epoch=train_step,validation_data=validation_generator,\n",
    "                    validation_steps=val_step, callbacks = [mc])\n"
   ]
  },
  {
   "cell_type": "markdown",
   "metadata": {
    "colab_type": "text",
    "id": "IHQiQLKPRCqL"
   },
   "source": [
    "Saving the model"
   ]
  },
  {
   "cell_type": "code",
   "execution_count": 0,
   "metadata": {
    "colab": {},
    "colab_type": "code",
    "id": "goTEeaECItaf"
   },
   "outputs": [],
   "source": [
    "model.save('/content/drive/My Drive/My Models/cnn.h5')\n",
    "#cnn_1= models.load_model('/content/drive/My Drive/My Models/cnn.h5')"
   ]
  },
  {
   "cell_type": "code",
   "execution_count": 16,
   "metadata": {
    "colab": {
     "base_uri": "https://localhost:8080/",
     "height": 34
    },
    "colab_type": "code",
    "id": "xvQN-zWD3LKm",
    "outputId": "6c68aeab-6fce-4b83-c4d1-ce9a3658bc36"
   },
   "outputs": [
    {
     "data": {
      "text/plain": [
       "[1.8181825876235962, 0.5702151656150818]"
      ]
     },
     "execution_count": 16,
     "metadata": {
      "tags": []
     },
     "output_type": "execute_result"
    }
   ],
   "source": [
    "cnn.model.evaluate_generator(train_generator)"
   ]
  },
  {
   "cell_type": "code",
   "execution_count": 18,
   "metadata": {
    "colab": {
     "base_uri": "https://localhost:8080/",
     "height": 34
    },
    "colab_type": "code",
    "id": "-eo_RIrK3LDr",
    "outputId": "c865f2d3-d35e-469a-9b4f-df169fd67182"
   },
   "outputs": [
    {
     "data": {
      "text/plain": [
       "[2.2963004112243652, 0.559602677822113]"
      ]
     },
     "execution_count": 18,
     "metadata": {
      "tags": []
     },
     "output_type": "execute_result"
    }
   ],
   "source": [
    "cnn.model.evaluate_generator(validation_generator)"
   ]
  },
  {
   "cell_type": "code",
   "execution_count": 20,
   "metadata": {
    "colab": {
     "base_uri": "https://localhost:8080/",
     "height": 34
    },
    "colab_type": "code",
    "id": "6oXwNo0i3K8y",
    "outputId": "be854e7d-5e23-404e-81b2-8d2e4e6b720b"
   },
   "outputs": [
    {
     "data": {
      "text/plain": [
       "[2.0981407165527344, 0.5250544548034668]"
      ]
     },
     "execution_count": 20,
     "metadata": {
      "tags": []
     },
     "output_type": "execute_result"
    }
   ],
   "source": [
    "cnn.model.evaluate_generator(test_generator)"
   ]
  },
  {
   "cell_type": "markdown",
   "metadata": {
    "colab_type": "text",
    "id": "LDasgXt1RGtE"
   },
   "source": [
    "Visualizing Accuracy and Loss "
   ]
  },
  {
   "cell_type": "code",
   "execution_count": 21,
   "metadata": {
    "colab": {
     "base_uri": "https://localhost:8080/",
     "height": 545
    },
    "colab_type": "code",
    "id": "JBpnEfPAdaTB",
    "outputId": "f00c3140-b09c-4730-b39c-c4705b7af8fc"
   },
   "outputs": [
    {
     "data": {
      "image/png": "[encoded data removed]",
      "text/plain": [
       "<Figure size 432x288 with 1 Axes>"
      ]
     },
     "metadata": {
      "needs_background": "light",
      "tags": []
     },
     "output_type": "display_data"
    },
    {
     "data": {
      "image/png": "[encoded data removed]",
      "text/plain": [
       "<Figure size 432x288 with 1 Axes>"
      ]
     },
     "metadata": {
      "needs_background": "light",
      "tags": []
     },
     "output_type": "display_data"
    }
   ],
   "source": [
    "val_acc = cnn.history['val_acc']\n",
    "val_loss = cnn.history['val_loss']\n",
    "acc = cnn.history['acc']\n",
    "loss = cnn.history['loss']\n",
    "\n",
    "# Plot training & validation accuracy values\n",
    "plt.plot(range(100), acc, 'b*-', label = 'Training accuracy')\n",
    "plt.plot(range(100), val_acc, 'r', label = 'Validation accuracy')\n",
    "plt.title('Training and validation accuracy - CNN')\n",
    "plt.legend()\n",
    "plt.show()\n",
    "\n",
    "# Plot training & validation loss values\n",
    "plt.plot(range(100), loss, 'b*-', label = 'Training loss')\n",
    "plt.plot(range(100), val_loss, 'r', label = 'Validation loss')\n",
    "plt.title('Training and validation loss - CNN')\n",
    "plt.legend()\n",
    "plt.show()"
   ]
  },
  {
   "cell_type": "markdown",
   "metadata": {
    "colab_type": "text",
    "id": "0QflEHd3IQB-"
   },
   "source": [
    "#**Prediction using test set**"
   ]
  },
  {
   "cell_type": "code",
   "execution_count": 22,
   "metadata": {
    "colab": {
     "base_uri": "https://localhost:8080/",
     "height": 34
    },
    "colab_type": "code",
    "id": "RPE1mLENIPat",
    "outputId": "4b2d85f2-bf7e-4280-cb91-d6b6c8f45efa"
   },
   "outputs": [
    {
     "name": "stdout",
     "output_type": "stream",
     "text": [
      "15/15 [==============================] - 6s 414ms/step\n"
     ]
    }
   ],
   "source": [
    "STEP_SIZE_TEST=test_generator.n//test_generator.batch_size\n",
    "test_generator.reset()\n",
    "pred=model.predict(test_generator, verbose=1)"
   ]
  },
  {
   "cell_type": "code",
   "execution_count": 0,
   "metadata": {
    "colab": {},
    "colab_type": "code",
    "id": "DWBiaehrJI_q"
   },
   "outputs": [],
   "source": [
    "predicted_class_indices=np.argmax(pred,axis=1)"
   ]
  },
  {
   "cell_type": "code",
   "execution_count": 0,
   "metadata": {
    "colab": {},
    "colab_type": "code",
    "id": "95XD-lX6JMYt"
   },
   "outputs": [],
   "source": [
    "labels = (train_generator.class_indices)\n",
    "labels = dict((v,k) for k,v in labels.items())\n",
    "\n",
    "predictions = [labels[k] for k in predicted_class_indices]"
   ]
  },
  {
   "cell_type": "code",
   "execution_count": 0,
   "metadata": {
    "colab": {},
    "colab_type": "code",
    "id": "Fz3MJiThN9hT"
   },
   "outputs": [],
   "source": [
    "file_names=test_generator.filenames\n",
    "for i in range(0,len(file_names)):\n",
    "  file_names[i] = file_names[i].split('/')\n",
    "  file_names[i] = file_names[i][0]\n",
    "\n",
    "\n",
    "classes= (test_generator.class_indices)\n",
    "\n",
    "\n",
    "for i in range(0,len(file_names)):\n",
    "  if file_names[i] in classes:\n",
    "    file_names[i]=classes[file_names[i]]\n",
    "\n",
    "for i in range(0,len(predictions)):\n",
    "  if predictions[i] in classes:\n",
    "    predictions[i]=classes[predictions[i]]\n"
   ]
  },
  {
   "cell_type": "code",
   "execution_count": 26,
   "metadata": {
    "colab": {
     "base_uri": "https://localhost:8080/",
     "height": 195
    },
    "colab_type": "code",
    "id": "C0Svr1OZJTyD",
    "outputId": "14976747-774c-4efb-b27c-93997bb1ee7c"
   },
   "outputs": [
    {
     "data": {
      "text/html": [
       "<div>\n",
       "<style scoped>\n",
       "    .dataframe tbody tr th:only-of-type {\n",
       "        vertical-align: middle;\n",
       "    }\n",
       "\n",
       "    .dataframe tbody tr th {\n",
       "        vertical-align: top;\n",
       "    }\n",
       "\n",
       "    .dataframe thead th {\n",
       "        text-align: right;\n",
       "    }\n",
       "</style>\n",
       "<table border=\"1\" class=\"dataframe\">\n",
       "  <thead>\n",
       "    <tr style=\"text-align: right;\">\n",
       "      <th></th>\n",
       "      <th>Actual</th>\n",
       "      <th>Predictions</th>\n",
       "    </tr>\n",
       "  </thead>\n",
       "  <tbody>\n",
       "    <tr>\n",
       "      <th>0</th>\n",
       "      <td>0</td>\n",
       "      <td>0</td>\n",
       "    </tr>\n",
       "    <tr>\n",
       "      <th>1</th>\n",
       "      <td>0</td>\n",
       "      <td>0</td>\n",
       "    </tr>\n",
       "    <tr>\n",
       "      <th>2</th>\n",
       "      <td>0</td>\n",
       "      <td>0</td>\n",
       "    </tr>\n",
       "    <tr>\n",
       "      <th>3</th>\n",
       "      <td>0</td>\n",
       "      <td>2</td>\n",
       "    </tr>\n",
       "    <tr>\n",
       "      <th>4</th>\n",
       "      <td>0</td>\n",
       "      <td>5</td>\n",
       "    </tr>\n",
       "  </tbody>\n",
       "</table>\n",
       "</div>"
      ],
      "text/plain": [
       "   Actual  Predictions\n",
       "0       0            0\n",
       "1       0            0\n",
       "2       0            0\n",
       "3       0            2\n",
       "4       0            5"
      ]
     },
     "execution_count": 26,
     "metadata": {
      "tags": []
     },
     "output_type": "execute_result"
    }
   ],
   "source": [
    "results=pd.DataFrame({\"Actual\":file_names,\n",
    "                      \"Predictions\":predictions})\n",
    "results.head(5)"
   ]
  },
  {
   "cell_type": "code",
   "execution_count": 27,
   "metadata": {
    "colab": {
     "base_uri": "https://localhost:8080/",
     "height": 118
    },
    "colab_type": "code",
    "id": "losWlCt5P0wm",
    "outputId": "9282a531-bb50-4a42-c76e-8caa66496e18"
   },
   "outputs": [
    {
     "name": "stdout",
     "output_type": "stream",
     "text": [
      "[[52  3  5  8  3  2]\n",
      " [ 2 36 19 12 22  0]\n",
      " [ 1 16 36  7 11  3]\n",
      " [ 1  6  9 63 29  0]\n",
      " [ 1  7 12  7 59  1]\n",
      " [ 1  6  5  3  6  5]]\n"
     ]
    }
   ],
   "source": [
    "cm = confusion_matrix(file_names, predictions)\n",
    "print(cm)"
   ]
  },
  {
   "cell_type": "code",
   "execution_count": 28,
   "metadata": {
    "colab": {
     "base_uri": "https://localhost:8080/",
     "height": 500
    },
    "colab_type": "code",
    "id": "51_mJsbOGpJw",
    "outputId": "528ad17d-b9ff-4f75-a5ed-19f4a42d6f51"
   },
   "outputs": [
    {
     "data": {
      "text/plain": [
       "<matplotlib.axes._subplots.AxesSubplot at 0x7f46e0099be0>"
      ]
     },
     "execution_count": 28,
     "metadata": {
      "tags": []
     },
     "output_type": "execute_result"
    },
    {
     "data": {
      "image/png": "[encoded data removed]",
      "text/plain": [
       "<Figure size 720x576 with 2 Axes>"
      ]
     },
     "metadata": {
      "needs_background": "light",
      "tags": []
     },
     "output_type": "display_data"
    }
   ],
   "source": [
    "df_cm = pd.DataFrame(cm,waste_types,waste_types)\n",
    "\n",
    "plt.figure(figsize=(10,8))\n",
    "sns.heatmap(df_cm,annot=True,fmt=\"d\",cmap=\"YlGnBu\")"
   ]
  },
  {
   "cell_type": "code",
   "execution_count": 29,
   "metadata": {
    "colab": {
     "base_uri": "https://localhost:8080/",
     "height": 34
    },
    "colab_type": "code",
    "id": "94sLxQwt-wup",
    "outputId": "c0a2f668-e0f6-483d-f183-ecbe070550c4"
   },
   "outputs": [
    {
     "data": {
      "text/plain": [
       "0.5468409586056645"
      ]
     },
     "execution_count": 29,
     "metadata": {
      "tags": []
     },
     "output_type": "execute_result"
    }
   ],
   "source": [
    "correct = 0\n",
    "\n",
    "for r in range(len(cm)):\n",
    "    for c in range(len(cm)):\n",
    "        if (r==c):\n",
    "            correct += cm[r,c]\n",
    "\n",
    "accuracy = correct/sum(sum(cm))\n",
    "accuracy"
   ]
  },
  {
   "cell_type": "markdown",
   "metadata": {
    "colab_type": "text",
    "id": "hF-Rh5Sk3uQz"
   },
   "source": [
    "#**ResNet50 - PreTrained**\n",
    "Defining ResNet50\n",
    "\n"
   ]
  },
  {
   "cell_type": "code",
   "execution_count": 30,
   "metadata": {
    "colab": {
     "base_uri": "https://localhost:8080/",
     "height": 50
    },
    "colab_type": "code",
    "id": "CfuJ7pVVZdlT",
    "outputId": "05ed8fc1-ecdd-4cca-fd18-5746f5404782"
   },
   "outputs": [
    {
     "name": "stdout",
     "output_type": "stream",
     "text": [
      "Downloading data from https://github.com/keras-team/keras-applications/releases/download/resnet/resnet50v2_weights_tf_dim_ordering_tf_kernels_notop.h5\n",
      "94674944/94668760 [==============================] - 8s 0us/step\n"
     ]
    }
   ],
   "source": [
    "resnet_pretrained = ResNet50V2(include_top=False,\n",
    "                             weights='imagenet',\n",
    "                             pooling='avg')\n",
    "\n"
   ]
  },
  {
   "cell_type": "markdown",
   "metadata": {
    "colab_type": "text",
    "id": "w6ht_2MxZXn7"
   },
   "source": [
    "Model Building\n"
   ]
  },
  {
   "cell_type": "code",
   "execution_count": 31,
   "metadata": {
    "colab": {
     "base_uri": "https://localhost:8080/",
     "height": 218
    },
    "colab_type": "code",
    "id": "AZQnld2nQfGN",
    "outputId": "0e288ec8-e56a-462d-ae72-5dbf27bedab7"
   },
   "outputs": [
    {
     "name": "stdout",
     "output_type": "stream",
     "text": [
      "Model: \"sequential_2\"\n",
      "_________________________________________________________________\n",
      "Layer (type)                 Output Shape              Param #   \n",
      "=================================================================\n",
      "resnet50v2 (Model)           (None, 2048)              23564800  \n",
      "_________________________________________________________________\n",
      "dense_3 (Dense)              (None, 6)                 12294     \n",
      "=================================================================\n",
      "Total params: 23,577,094\n",
      "Trainable params: 12,294\n",
      "Non-trainable params: 23,564,800\n",
      "_________________________________________________________________\n"
     ]
    }
   ],
   "source": [
    "model = Sequential()\n",
    "\n",
    "model.add(resnet_pretrained)\n",
    "model.add(Dense(6, activation='softmax'))\n",
    "\n",
    "#Fine-tuning\n",
    "# Freeze the first layer\n",
    "model.layers[0].trainable = False\n",
    "\n",
    "lr = 0.01\n",
    "momentum = 0.001\n",
    "opt = SGD(learning_rate=lr, momentum=momentum)\n",
    "\n",
    "model.compile(optimizer=opt,\n",
    "              loss='categorical_crossentropy',\n",
    "              metrics=['accuracy'])\n",
    "model.summary()"
   ]
  },
  {
   "cell_type": "code",
   "execution_count": 32,
   "metadata": {
    "colab": {
     "base_uri": "https://localhost:8080/",
     "height": 50
    },
    "colab_type": "code",
    "id": "FWgyMJzQRtUW",
    "outputId": "441f77c5-28c4-48b7-d614-bb6603642d65"
   },
   "outputs": [
    {
     "name": "stdout",
     "output_type": "stream",
     "text": [
      "Train step:  55\n",
      "Validation step:  9\n"
     ]
    }
   ],
   "source": [
    "train_step = train_generator.n//train_generator.batch_size\n",
    "val_step = validation_generator.n//validation_generator.batch_size\n",
    "print(\"Train step: \", train_step)\n",
    "print(\"Validation step: \", val_step)"
   ]
  },
  {
   "cell_type": "markdown",
   "metadata": {
    "colab_type": "text",
    "id": "GDmDrEMwSGwY"
   },
   "source": [
    "Model Training"
   ]
  },
  {
   "cell_type": "code",
   "execution_count": 34,
   "metadata": {
    "colab": {
     "base_uri": "https://localhost:8080/",
     "height": 1000
    },
    "colab_type": "code",
    "id": "xNJ5m24WSJBp",
    "outputId": "b1f8dcf6-4c46-4303-9acc-a8f5ced9cbc8"
   },
   "outputs": [
    {
     "name": "stdout",
     "output_type": "stream",
     "text": [
      "Epoch 1/50\n",
      "55/55 [==============================] - 34s 610ms/step - loss: 1.7586 - accuracy: 0.3287 - val_loss: 3.6723 - val_accuracy: 0.4965\n",
      "\n",
      "Epoch 00001: val_accuracy improved from -inf to 0.49653, saving model to resnet-pretrained_checkpoint.h5\n",
      "Epoch 2/50\n",
      "55/55 [==============================] - 33s 602ms/step - loss: 1.7916 - accuracy: 0.3120 - val_loss: 1.8245 - val_accuracy: 0.4926\n",
      "\n",
      "Epoch 00002: val_accuracy did not improve from 0.49653\n",
      "Epoch 3/50\n",
      "55/55 [==============================] - 33s 597ms/step - loss: 1.6693 - accuracy: 0.3766 - val_loss: 1.3290 - val_accuracy: 0.3963\n",
      "\n",
      "Epoch 00003: val_accuracy did not improve from 0.49653\n",
      "Epoch 4/50\n",
      "55/55 [==============================] - 32s 587ms/step - loss: 1.6991 - accuracy: 0.3529 - val_loss: 0.2529 - val_accuracy: 0.4222\n",
      "\n",
      "Epoch 00004: val_accuracy did not improve from 0.49653\n",
      "Epoch 5/50\n",
      "55/55 [==============================] - 32s 585ms/step - loss: 1.7207 - accuracy: 0.3403 - val_loss: 1.2648 - val_accuracy: 0.3704\n",
      "\n",
      "Epoch 00005: val_accuracy did not improve from 0.49653\n",
      "Epoch 6/50\n",
      "55/55 [==============================] - 32s 578ms/step - loss: 1.6581 - accuracy: 0.3702 - val_loss: 0.5189 - val_accuracy: 0.4963\n",
      "\n",
      "Epoch 00006: val_accuracy did not improve from 0.49653\n",
      "Epoch 7/50\n",
      "55/55 [==============================] - 32s 583ms/step - loss: 1.6832 - accuracy: 0.3716 - val_loss: 0.9775 - val_accuracy: 0.5111\n",
      "\n",
      "Epoch 00007: val_accuracy improved from 0.49653 to 0.51111, saving model to resnet-pretrained_checkpoint.h5\n",
      "Epoch 8/50\n",
      "55/55 [==============================] - 31s 566ms/step - loss: 1.7472 - accuracy: 0.3314 - val_loss: 0.5810 - val_accuracy: 0.4333\n",
      "\n",
      "Epoch 00008: val_accuracy did not improve from 0.51111\n",
      "Epoch 9/50\n",
      "55/55 [==============================] - 31s 560ms/step - loss: 1.6605 - accuracy: 0.3627 - val_loss: 0.1197 - val_accuracy: 0.3037\n",
      "\n",
      "Epoch 00009: val_accuracy did not improve from 0.51111\n",
      "Epoch 10/50\n",
      "55/55 [==============================] - 31s 571ms/step - loss: 1.5791 - accuracy: 0.4216 - val_loss: 2.1997 - val_accuracy: 0.5000\n",
      "\n",
      "Epoch 00010: val_accuracy did not improve from 0.51111\n",
      "Epoch 11/50\n",
      "55/55 [==============================] - 31s 569ms/step - loss: 1.7683 - accuracy: 0.3085 - val_loss: 1.8972 - val_accuracy: 0.6146\n",
      "\n",
      "Epoch 00011: val_accuracy improved from 0.51111 to 0.61458, saving model to resnet-pretrained_checkpoint.h5\n",
      "Epoch 12/50\n",
      "55/55 [==============================] - 33s 604ms/step - loss: 1.6715 - accuracy: 0.3766 - val_loss: 2.0350 - val_accuracy: 0.5074\n",
      "\n",
      "Epoch 00012: val_accuracy did not improve from 0.61458\n",
      "Epoch 13/50\n",
      "55/55 [==============================] - 31s 571ms/step - loss: 1.7054 - accuracy: 0.3506 - val_loss: 1.1663 - val_accuracy: 0.5185\n",
      "\n",
      "Epoch 00013: val_accuracy did not improve from 0.61458\n",
      "Epoch 14/50\n",
      "55/55 [==============================] - 31s 560ms/step - loss: 1.7094 - accuracy: 0.3287 - val_loss: 0.9260 - val_accuracy: 0.4370\n",
      "\n",
      "Epoch 00014: val_accuracy did not improve from 0.61458\n",
      "Epoch 15/50\n",
      "55/55 [==============================] - 31s 565ms/step - loss: 1.6800 - accuracy: 0.3528 - val_loss: 1.0396 - val_accuracy: 0.5593\n",
      "\n",
      "Epoch 00015: val_accuracy did not improve from 0.61458\n",
      "Epoch 16/50\n",
      "55/55 [==============================] - 30s 551ms/step - loss: 1.7404 - accuracy: 0.3431 - val_loss: 0.8965 - val_accuracy: 0.3852\n",
      "\n",
      "Epoch 00016: val_accuracy did not improve from 0.61458\n",
      "Epoch 17/50\n",
      "55/55 [==============================] - 31s 564ms/step - loss: 1.6642 - accuracy: 0.3616 - val_loss: 0.2097 - val_accuracy: 0.4074\n",
      "\n",
      "Epoch 00017: val_accuracy did not improve from 0.61458\n",
      "Epoch 18/50\n",
      "55/55 [==============================] - 31s 567ms/step - loss: 1.6448 - accuracy: 0.3800 - val_loss: 0.6158 - val_accuracy: 0.4407\n",
      "\n",
      "Epoch 00018: val_accuracy did not improve from 0.61458\n",
      "Epoch 19/50\n",
      "55/55 [==============================] - 31s 570ms/step - loss: 1.7285 - accuracy: 0.3189 - val_loss: 0.7094 - val_accuracy: 0.5037\n",
      "\n",
      "Epoch 00019: val_accuracy did not improve from 0.61458\n",
      "Epoch 20/50\n",
      "55/55 [==============================] - 31s 564ms/step - loss: 1.6223 - accuracy: 0.3789 - val_loss: 2.7665 - val_accuracy: 0.4148\n",
      "\n",
      "Epoch 00020: val_accuracy did not improve from 0.61458\n",
      "Epoch 21/50\n",
      "55/55 [==============================] - 32s 579ms/step - loss: 1.6422 - accuracy: 0.3627 - val_loss: 2.5332 - val_accuracy: 0.4479\n",
      "\n",
      "Epoch 00021: val_accuracy did not improve from 0.61458\n",
      "Epoch 22/50\n",
      "55/55 [==============================] - 34s 616ms/step - loss: 1.6195 - accuracy: 0.3710 - val_loss: 1.0561 - val_accuracy: 0.5963\n",
      "\n",
      "Epoch 00022: val_accuracy did not improve from 0.61458\n",
      "Epoch 23/50\n",
      "55/55 [==============================] - 31s 558ms/step - loss: 1.5770 - accuracy: 0.3893 - val_loss: 0.9038 - val_accuracy: 0.5556\n",
      "\n",
      "Epoch 00023: val_accuracy did not improve from 0.61458\n",
      "Epoch 24/50\n",
      "55/55 [==============================] - 30s 547ms/step - loss: 1.5635 - accuracy: 0.3946 - val_loss: 0.5443 - val_accuracy: 0.4667\n",
      "\n",
      "Epoch 00024: val_accuracy did not improve from 0.61458\n",
      "Epoch 25/50\n",
      "55/55 [==============================] - 31s 558ms/step - loss: 1.6368 - accuracy: 0.3702 - val_loss: 0.7769 - val_accuracy: 0.4593\n",
      "\n",
      "Epoch 00025: val_accuracy did not improve from 0.61458\n",
      "Epoch 26/50\n",
      "55/55 [==============================] - 31s 555ms/step - loss: 1.5142 - accuracy: 0.4204 - val_loss: 0.5744 - val_accuracy: 0.3889\n",
      "\n",
      "Epoch 00026: val_accuracy did not improve from 0.61458\n",
      "Epoch 27/50\n",
      "55/55 [==============================] - 31s 555ms/step - loss: 1.4876 - accuracy: 0.4341 - val_loss: 0.2986 - val_accuracy: 0.4704\n",
      "\n",
      "Epoch 00027: val_accuracy did not improve from 0.61458\n",
      "Epoch 28/50\n",
      "55/55 [==============================] - 29s 533ms/step - loss: 1.6711 - accuracy: 0.3741 - val_loss: 0.7861 - val_accuracy: 0.5074\n",
      "\n",
      "Epoch 00028: val_accuracy did not improve from 0.61458\n",
      "Epoch 29/50\n",
      "55/55 [==============================] - 31s 561ms/step - loss: 1.5994 - accuracy: 0.3642 - val_loss: 0.3503 - val_accuracy: 0.4370\n",
      "\n",
      "Epoch 00029: val_accuracy did not improve from 0.61458\n",
      "Epoch 30/50\n",
      "55/55 [==============================] - 31s 557ms/step - loss: 1.5631 - accuracy: 0.3870 - val_loss: 4.7805 - val_accuracy: 0.4074\n",
      "\n",
      "Epoch 00030: val_accuracy did not improve from 0.61458\n",
      "Epoch 31/50\n",
      "55/55 [==============================] - 32s 573ms/step - loss: 1.5605 - accuracy: 0.4014 - val_loss: 1.4985 - val_accuracy: 0.5590\n",
      "\n",
      "Epoch 00031: val_accuracy did not improve from 0.61458\n",
      "Epoch 32/50\n",
      "55/55 [==============================] - 33s 601ms/step - loss: 1.5973 - accuracy: 0.3737 - val_loss: 3.6445 - val_accuracy: 0.5444\n",
      "\n",
      "Epoch 00032: val_accuracy did not improve from 0.61458\n",
      "Epoch 33/50\n",
      "55/55 [==============================] - 30s 552ms/step - loss: 1.6367 - accuracy: 0.3706 - val_loss: 1.3102 - val_accuracy: 0.5037\n",
      "\n",
      "Epoch 00033: val_accuracy did not improve from 0.61458\n",
      "Epoch 34/50\n",
      "55/55 [==============================] - 31s 564ms/step - loss: 1.4990 - accuracy: 0.4267 - val_loss: 0.4580 - val_accuracy: 0.4148\n",
      "\n",
      "Epoch 00034: val_accuracy did not improve from 0.61458\n",
      "Epoch 35/50\n",
      "55/55 [==============================] - 31s 558ms/step - loss: 1.6576 - accuracy: 0.3506 - val_loss: 1.9678 - val_accuracy: 0.4741\n",
      "\n",
      "Epoch 00035: val_accuracy did not improve from 0.61458\n",
      "Epoch 36/50\n",
      "55/55 [==============================] - 31s 561ms/step - loss: 1.4478 - accuracy: 0.4469 - val_loss: 0.7628 - val_accuracy: 0.3963\n",
      "\n",
      "Epoch 00036: val_accuracy did not improve from 0.61458\n",
      "Epoch 37/50\n",
      "55/55 [==============================] - 30s 551ms/step - loss: 1.6143 - accuracy: 0.3776 - val_loss: 0.5815 - val_accuracy: 0.4593\n",
      "\n",
      "Epoch 00037: val_accuracy did not improve from 0.61458\n",
      "Epoch 38/50\n",
      "55/55 [==============================] - 31s 564ms/step - loss: 1.5410 - accuracy: 0.3916 - val_loss: 1.8718 - val_accuracy: 0.5556\n",
      "\n",
      "Epoch 00038: val_accuracy did not improve from 0.61458\n",
      "Epoch 39/50\n",
      "55/55 [==============================] - 31s 556ms/step - loss: 1.5955 - accuracy: 0.3651 - val_loss: 1.0191 - val_accuracy: 0.4926\n",
      "\n",
      "Epoch 00039: val_accuracy did not improve from 0.61458\n",
      "Epoch 40/50\n",
      "55/55 [==============================] - 31s 563ms/step - loss: 1.5267 - accuracy: 0.4125 - val_loss: 2.5736 - val_accuracy: 0.4704\n",
      "\n",
      "Epoch 00040: val_accuracy did not improve from 0.61458\n",
      "Epoch 41/50\n",
      "55/55 [==============================] - 31s 568ms/step - loss: 1.6139 - accuracy: 0.3749 - val_loss: 2.0776 - val_accuracy: 0.5174\n",
      "\n",
      "Epoch 00041: val_accuracy did not improve from 0.61458\n",
      "Epoch 42/50\n",
      "55/55 [==============================] - 33s 598ms/step - loss: 1.4748 - accuracy: 0.4319 - val_loss: 3.7961 - val_accuracy: 0.4963\n",
      "\n",
      "Epoch 00042: val_accuracy did not improve from 0.61458\n",
      "Epoch 43/50\n",
      "55/55 [==============================] - 31s 558ms/step - loss: 1.5184 - accuracy: 0.4331 - val_loss: 0.9700 - val_accuracy: 0.5148\n",
      "\n",
      "Epoch 00043: val_accuracy did not improve from 0.61458\n",
      "Epoch 44/50\n",
      "55/55 [==============================] - 31s 561ms/step - loss: 1.4965 - accuracy: 0.4308 - val_loss: 0.5821 - val_accuracy: 0.4852\n",
      "\n",
      "Epoch 00044: val_accuracy did not improve from 0.61458\n",
      "Epoch 45/50\n",
      "55/55 [==============================] - 30s 546ms/step - loss: 1.5728 - accuracy: 0.3788 - val_loss: 1.5366 - val_accuracy: 0.4222\n",
      "\n",
      "Epoch 00045: val_accuracy did not improve from 0.61458\n",
      "Epoch 46/50\n",
      "55/55 [==============================] - 31s 567ms/step - loss: 1.5098 - accuracy: 0.4347 - val_loss: 1.1986 - val_accuracy: 0.4593\n",
      "\n",
      "Epoch 00046: val_accuracy did not improve from 0.61458\n",
      "Epoch 47/50\n",
      "55/55 [==============================] - 31s 560ms/step - loss: 1.4812 - accuracy: 0.4493 - val_loss: 0.4831 - val_accuracy: 0.4333\n",
      "\n",
      "Epoch 00047: val_accuracy did not improve from 0.61458\n",
      "Epoch 48/50\n",
      "55/55 [==============================] - 30s 550ms/step - loss: 1.5700 - accuracy: 0.4052 - val_loss: 2.0838 - val_accuracy: 0.4481\n",
      "\n",
      "Epoch 00048: val_accuracy did not improve from 0.61458\n",
      "Epoch 49/50\n",
      "55/55 [==============================] - 31s 572ms/step - loss: 1.5190 - accuracy: 0.4210 - val_loss: 1.4520 - val_accuracy: 0.4296\n",
      "\n",
      "Epoch 00049: val_accuracy did not improve from 0.61458\n",
      "Epoch 50/50\n",
      "55/55 [==============================] - 31s 556ms/step - loss: 1.4485 - accuracy: 0.4694 - val_loss: 3.7298 - val_accuracy: 0.5481\n",
      "\n",
      "Epoch 00050: val_accuracy did not improve from 0.61458\n"
     ]
    }
   ],
   "source": [
    "es = EarlyStopping(monitor='val_loss', mode='min', verbose=1, patience=10)\n",
    "mc = ModelCheckpoint('resnet-pretrained_checkpoint.h5', monitor='val_accuracy', mode='max', verbose=1, save_best_only=True)\n",
    "\n",
    "resnet_pretrained = model.fit(train_generator,\n",
    "                   steps_per_epoch=train_step,\n",
    "                   validation_data=validation_generator,\n",
    "                   validation_steps=val_step,\n",
    "                   epochs=50,\n",
    "                   callbacks=[mc])"
   ]
  },
  {
   "cell_type": "markdown",
   "metadata": {
    "colab_type": "text",
    "id": "FwHPk2ubVqsV"
   },
   "source": [
    "Saving the model"
   ]
  },
  {
   "cell_type": "code",
   "execution_count": 0,
   "metadata": {
    "colab": {},
    "colab_type": "code",
    "id": "ZE4jrBjXVqsY"
   },
   "outputs": [],
   "source": [
    "model.save('/content/drive/My Drive/My Models/resnet_pretrained.h5')\n",
    "#resnet_pretrained_1= models.load_model('/content/drive/My Drive/My Models/resnet_pretrained.h5')"
   ]
  },
  {
   "cell_type": "code",
   "execution_count": 36,
   "metadata": {
    "colab": {
     "base_uri": "https://localhost:8080/",
     "height": 34
    },
    "colab_type": "code",
    "id": "4cmULtQS4pgj",
    "outputId": "6964c4fd-c092-447c-b69a-e77f57e86679"
   },
   "outputs": [
    {
     "data": {
      "text/plain": [
       "[2.2543134689331055, 0.5566251277923584]"
      ]
     },
     "execution_count": 36,
     "metadata": {
      "tags": []
     },
     "output_type": "execute_result"
    }
   ],
   "source": [
    "resnet_pretrained.model.evaluate_generator(train_generator)"
   ]
  },
  {
   "cell_type": "code",
   "execution_count": 37,
   "metadata": {
    "colab": {
     "base_uri": "https://localhost:8080/",
     "height": 34
    },
    "colab_type": "code",
    "id": "SzqEaIDv4phI",
    "outputId": "ec984646-d9fd-4adb-e2b2-72a0b7f9e729"
   },
   "outputs": [
    {
     "data": {
      "text/plain": [
       "[3.376161575317383, 0.5331125855445862]"
      ]
     },
     "execution_count": 37,
     "metadata": {
      "tags": []
     },
     "output_type": "execute_result"
    }
   ],
   "source": [
    "resnet_pretrained.model.evaluate_generator(validation_generator)"
   ]
  },
  {
   "cell_type": "code",
   "execution_count": 38,
   "metadata": {
    "colab": {
     "base_uri": "https://localhost:8080/",
     "height": 34
    },
    "colab_type": "code",
    "id": "drpr-Azl4phT",
    "outputId": "3f8347b1-96f9-465c-ac0e-b0afdbb8542a"
   },
   "outputs": [
    {
     "data": {
      "text/plain": [
       "[3.1888587474823, 0.516339898109436]"
      ]
     },
     "execution_count": 38,
     "metadata": {
      "tags": []
     },
     "output_type": "execute_result"
    }
   ],
   "source": [
    "resnet_pretrained.model.evaluate_generator(test_generator)"
   ]
  },
  {
   "cell_type": "markdown",
   "metadata": {
    "colab_type": "text",
    "id": "zds8XoPMVqse"
   },
   "source": [
    "Visualizing Accuracy and Loss "
   ]
  },
  {
   "cell_type": "code",
   "execution_count": 39,
   "metadata": {
    "colab": {
     "base_uri": "https://localhost:8080/",
     "height": 545
    },
    "colab_type": "code",
    "id": "gycW798SVqsf",
    "outputId": "9560dada-ca58-4375-b1c4-bc20f95ed03e"
   },
   "outputs": [
    {
     "data": {
      "image/png": "[encoded data removed]",
      "text/plain": [
       "<Figure size 432x288 with 1 Axes>"
      ]
     },
     "metadata": {
      "needs_background": "light",
      "tags": []
     },
     "output_type": "display_data"
    },
    {
     "data": {
      "image/png": "[encoded data removed]",
      "text/plain": [
       "<Figure size 432x288 with 1 Axes>"
      ]
     },
     "metadata": {
      "needs_background": "light",
      "tags": []
     },
     "output_type": "display_data"
    }
   ],
   "source": [
    "val_acc = resnet_pretrained.history['val_accuracy']\n",
    "val_loss = resnet_pretrained.history['val_loss']\n",
    "acc = resnet_pretrained.history['accuracy']\n",
    "loss = resnet_pretrained.history['loss']\n",
    "\n",
    "# Plot training & validation accuracy values\n",
    "plt.plot(range(50), acc, 'b*-', label = 'Training accuracy')\n",
    "plt.plot(range(50), val_acc, 'r', label = 'Validation accuracy')\n",
    "plt.title('Training and validation accuracy - ResNet50-PreTrained')\n",
    "plt.legend()\n",
    "plt.show()\n",
    "\n",
    "# Plot training & validation loss values\n",
    "plt.plot(range(50), loss, 'b*-', label = 'Training loss')\n",
    "plt.plot(range(50), val_loss, 'r', label = 'Validation loss')\n",
    "plt.title('Training and validation loss - ResNet50-PreTrained')\n",
    "plt.legend()\n",
    "plt.show()"
   ]
  },
  {
   "cell_type": "markdown",
   "metadata": {
    "colab_type": "text",
    "id": "aYl6HoHgZ-q1"
   },
   "source": [
    "#**ResNet50**\n",
    "Defining ResNet50\n",
    "\n"
   ]
  },
  {
   "cell_type": "code",
   "execution_count": 0,
   "metadata": {
    "colab": {},
    "colab_type": "code",
    "id": "CSKPuQ93Z-q2"
   },
   "outputs": [],
   "source": [
    "resnet = ResNet50V2(include_top=False,\n",
    "                             weights=None,\n",
    "                             pooling='avg')\n",
    "\n"
   ]
  },
  {
   "cell_type": "markdown",
   "metadata": {
    "colab_type": "text",
    "id": "zt_JJ6CEZ-q4"
   },
   "source": [
    "Model Building\n"
   ]
  },
  {
   "cell_type": "code",
   "execution_count": 41,
   "metadata": {
    "colab": {
     "base_uri": "https://localhost:8080/",
     "height": 218
    },
    "colab_type": "code",
    "id": "XpBni6pjZ-q5",
    "outputId": "d2b81f2d-34c6-45e3-d295-b308629495b6"
   },
   "outputs": [
    {
     "name": "stdout",
     "output_type": "stream",
     "text": [
      "Model: \"sequential_3\"\n",
      "_________________________________________________________________\n",
      "Layer (type)                 Output Shape              Param #   \n",
      "=================================================================\n",
      "resnet50v2 (Model)           (None, 2048)              23564800  \n",
      "_________________________________________________________________\n",
      "dense_4 (Dense)              (None, 6)                 12294     \n",
      "=================================================================\n",
      "Total params: 23,577,094\n",
      "Trainable params: 23,531,654\n",
      "Non-trainable params: 45,440\n",
      "_________________________________________________________________\n"
     ]
    }
   ],
   "source": [
    "model = Sequential()\n",
    "\n",
    "model.add(resnet)\n",
    "model.add(Dense(6, activation='softmax'))\n",
    "\n",
    "#Fine-tuning\n",
    "# Freeze the first layer\n",
    "#model.layers[0].trainable = False\n",
    "\n",
    "momentum = 0.001\n",
    "opt = SGD(learning_rate=lr, momentum=momentum)\n",
    "\n",
    "model.compile(optimizer=opt,\n",
    "              loss='categorical_crossentropy',\n",
    "              metrics=['accuracy'])\n",
    "model.summary()"
   ]
  },
  {
   "cell_type": "code",
   "execution_count": 42,
   "metadata": {
    "colab": {
     "base_uri": "https://localhost:8080/",
     "height": 50
    },
    "colab_type": "code",
    "id": "d5sz62VrSegZ",
    "outputId": "ed47ea69-a25c-4d5f-febb-06b400ef4b50"
   },
   "outputs": [
    {
     "name": "stdout",
     "output_type": "stream",
     "text": [
      "Train step:  55\n",
      "Validation step:  9\n"
     ]
    }
   ],
   "source": [
    "train_step = train_generator.n//train_generator.batch_size\n",
    "val_step = validation_generator.n//validation_generator.batch_size\n",
    "print(\"Train step: \", train_step)\n",
    "print(\"Validation step: \", val_step)"
   ]
  },
  {
   "cell_type": "markdown",
   "metadata": {
    "colab_type": "text",
    "id": "O0f3LEDUV5xo"
   },
   "source": [
    "Model Training"
   ]
  },
  {
   "cell_type": "code",
   "execution_count": 44,
   "metadata": {
    "colab": {
     "base_uri": "https://localhost:8080/",
     "height": 1000
    },
    "colab_type": "code",
    "id": "uZc8jZosV5xp",
    "outputId": "4361f21a-d693-4be0-b308-9d8bccf74414"
   },
   "outputs": [
    {
     "name": "stdout",
     "output_type": "stream",
     "text": [
      "Epoch 1/50\n",
      "55/55 [==============================] - 59s 1s/step - loss: 2.1360 - accuracy: 0.1696 - val_loss: 1.7939 - val_accuracy: 0.2465\n",
      "\n",
      "Epoch 00001: val_accuracy improved from -inf to 0.24653, saving model to resnet_checkpoint.h5\n",
      "Epoch 2/50\n",
      "55/55 [==============================] - 60s 1s/step - loss: 1.9979 - accuracy: 0.2520 - val_loss: 1.8965 - val_accuracy: 0.2222\n",
      "\n",
      "Epoch 00002: val_accuracy did not improve from 0.24653\n",
      "Epoch 3/50\n",
      "55/55 [==============================] - 60s 1s/step - loss: 1.9572 - accuracy: 0.2065 - val_loss: 1.1323 - val_accuracy: 0.2481\n",
      "\n",
      "Epoch 00003: val_accuracy improved from 0.24653 to 0.24815, saving model to resnet_checkpoint.h5\n",
      "Epoch 4/50\n",
      "55/55 [==============================] - 60s 1s/step - loss: 1.8856 - accuracy: 0.2491 - val_loss: 1.8121 - val_accuracy: 0.2222\n",
      "\n",
      "Epoch 00004: val_accuracy did not improve from 0.24815\n",
      "Epoch 5/50\n",
      "55/55 [==============================] - 60s 1s/step - loss: 1.8669 - accuracy: 0.2307 - val_loss: 1.9209 - val_accuracy: 0.1407\n",
      "\n",
      "Epoch 00005: val_accuracy did not improve from 0.24815\n",
      "Epoch 6/50\n",
      "55/55 [==============================] - 60s 1s/step - loss: 1.7856 - accuracy: 0.2601 - val_loss: 1.6672 - val_accuracy: 0.2444\n",
      "\n",
      "Epoch 00006: val_accuracy did not improve from 0.24815\n",
      "Epoch 7/50\n",
      "55/55 [==============================] - 59s 1s/step - loss: 1.7623 - accuracy: 0.3051 - val_loss: 1.9077 - val_accuracy: 0.2148\n",
      "\n",
      "Epoch 00007: val_accuracy did not improve from 0.24815\n",
      "Epoch 8/50\n",
      "55/55 [==============================] - 59s 1s/step - loss: 1.6988 - accuracy: 0.3178 - val_loss: 2.3856 - val_accuracy: 0.2593\n",
      "\n",
      "Epoch 00008: val_accuracy improved from 0.24815 to 0.25926, saving model to resnet_checkpoint.h5\n",
      "Epoch 9/50\n",
      "55/55 [==============================] - 59s 1s/step - loss: 1.6764 - accuracy: 0.3328 - val_loss: 5.1901 - val_accuracy: 0.2074\n",
      "\n",
      "Epoch 00009: val_accuracy did not improve from 0.25926\n",
      "Epoch 10/50\n",
      "55/55 [==============================] - 59s 1s/step - loss: 1.6128 - accuracy: 0.3665 - val_loss: 2.8532 - val_accuracy: 0.2037\n",
      "\n",
      "Epoch 00010: val_accuracy did not improve from 0.25926\n",
      "Epoch 11/50\n",
      "55/55 [==============================] - 58s 1s/step - loss: 1.6462 - accuracy: 0.3495 - val_loss: 1.9410 - val_accuracy: 0.2326\n",
      "\n",
      "Epoch 00011: val_accuracy did not improve from 0.25926\n",
      "Epoch 12/50\n",
      "55/55 [==============================] - 60s 1s/step - loss: 1.6488 - accuracy: 0.3495 - val_loss: 2.1474 - val_accuracy: 0.2593\n",
      "\n",
      "Epoch 00012: val_accuracy did not improve from 0.25926\n",
      "Epoch 13/50\n",
      "55/55 [==============================] - 60s 1s/step - loss: 1.5149 - accuracy: 0.4758 - val_loss: 1.5439 - val_accuracy: 0.2333\n",
      "\n",
      "Epoch 00013: val_accuracy did not improve from 0.25926\n",
      "Epoch 14/50\n",
      "55/55 [==============================] - 60s 1s/step - loss: 1.3940 - accuracy: 0.4954 - val_loss: 1.7529 - val_accuracy: 0.2185\n",
      "\n",
      "Epoch 00014: val_accuracy did not improve from 0.25926\n",
      "Epoch 15/50\n",
      "55/55 [==============================] - 60s 1s/step - loss: 1.4456 - accuracy: 0.4371 - val_loss: 1.5928 - val_accuracy: 0.1852\n",
      "\n",
      "Epoch 00015: val_accuracy did not improve from 0.25926\n",
      "Epoch 16/50\n",
      "55/55 [==============================] - 60s 1s/step - loss: 1.4520 - accuracy: 0.4481 - val_loss: 1.6863 - val_accuracy: 0.2519\n",
      "\n",
      "Epoch 00016: val_accuracy did not improve from 0.25926\n",
      "Epoch 17/50\n",
      "55/55 [==============================] - 59s 1s/step - loss: 1.2327 - accuracy: 0.6188 - val_loss: 1.6424 - val_accuracy: 0.1741\n",
      "\n",
      "Epoch 00017: val_accuracy did not improve from 0.25926\n",
      "Epoch 18/50\n",
      "55/55 [==============================] - 59s 1s/step - loss: 1.3546 - accuracy: 0.4775 - val_loss: 2.3302 - val_accuracy: 0.2296\n",
      "\n",
      "Epoch 00018: val_accuracy did not improve from 0.25926\n",
      "Epoch 19/50\n",
      "55/55 [==============================] - 59s 1s/step - loss: 1.1222 - accuracy: 0.6361 - val_loss: 2.6434 - val_accuracy: 0.2407\n",
      "\n",
      "Epoch 00019: val_accuracy did not improve from 0.25926\n",
      "Epoch 20/50\n",
      "55/55 [==============================] - 58s 1s/step - loss: 1.1944 - accuracy: 0.5248 - val_loss: 2.5750 - val_accuracy: 0.2444\n",
      "\n",
      "Epoch 00020: val_accuracy did not improve from 0.25926\n",
      "Epoch 21/50\n",
      "55/55 [==============================] - 59s 1s/step - loss: 1.0259 - accuracy: 0.6869 - val_loss: 2.1584 - val_accuracy: 0.2326\n",
      "\n",
      "Epoch 00021: val_accuracy did not improve from 0.25926\n",
      "Epoch 22/50\n",
      "55/55 [==============================] - 60s 1s/step - loss: 1.0363 - accuracy: 0.6563 - val_loss: 2.0556 - val_accuracy: 0.2593\n",
      "\n",
      "Epoch 00022: val_accuracy did not improve from 0.25926\n",
      "Epoch 23/50\n",
      "55/55 [==============================] - 60s 1s/step - loss: 0.8655 - accuracy: 0.7278 - val_loss: 6.7881 - val_accuracy: 0.2148\n",
      "\n",
      "Epoch 00023: val_accuracy did not improve from 0.25926\n",
      "Epoch 24/50\n",
      "55/55 [==============================] - 60s 1s/step - loss: 0.9726 - accuracy: 0.6672 - val_loss: 1.1309 - val_accuracy: 0.1370\n",
      "\n",
      "Epoch 00024: val_accuracy did not improve from 0.25926\n",
      "Epoch 25/50\n",
      "55/55 [==============================] - 60s 1s/step - loss: 0.8789 - accuracy: 0.7193 - val_loss: 3.8361 - val_accuracy: 0.1370\n",
      "\n",
      "Epoch 00025: val_accuracy did not improve from 0.25926\n",
      "Epoch 26/50\n",
      "55/55 [==============================] - 59s 1s/step - loss: 1.1514 - accuracy: 0.5896 - val_loss: 1.5482 - val_accuracy: 0.2148\n",
      "\n",
      "Epoch 00026: val_accuracy did not improve from 0.25926\n",
      "Epoch 27/50\n",
      "55/55 [==============================] - 60s 1s/step - loss: 0.7138 - accuracy: 0.7852 - val_loss: 1.3320 - val_accuracy: 0.2667\n",
      "\n",
      "Epoch 00027: val_accuracy improved from 0.25926 to 0.26667, saving model to resnet_checkpoint.h5\n",
      "Epoch 28/50\n",
      "55/55 [==============================] - 59s 1s/step - loss: 0.8991 - accuracy: 0.7053 - val_loss: 2.1967 - val_accuracy: 0.1926\n",
      "\n",
      "Epoch 00028: val_accuracy did not improve from 0.26667\n",
      "Epoch 29/50\n",
      "55/55 [==============================] - 59s 1s/step - loss: 0.8739 - accuracy: 0.7070 - val_loss: 2.4354 - val_accuracy: 0.2370\n",
      "\n",
      "Epoch 00029: val_accuracy did not improve from 0.26667\n",
      "Epoch 30/50\n",
      "55/55 [==============================] - 58s 1s/step - loss: 0.8670 - accuracy: 0.7459 - val_loss: 1.8400 - val_accuracy: 0.2185\n",
      "\n",
      "Epoch 00030: val_accuracy did not improve from 0.26667\n",
      "Epoch 31/50\n",
      "55/55 [==============================] - 59s 1s/step - loss: 0.6906 - accuracy: 0.8189 - val_loss: 2.0326 - val_accuracy: 0.2500\n",
      "\n",
      "Epoch 00031: val_accuracy did not improve from 0.26667\n",
      "Epoch 32/50\n",
      "55/55 [==============================] - 60s 1s/step - loss: 0.5903 - accuracy: 0.8108 - val_loss: 1.8834 - val_accuracy: 0.1074\n",
      "\n",
      "Epoch 00032: val_accuracy did not improve from 0.26667\n",
      "Epoch 33/50\n",
      "55/55 [==============================] - 60s 1s/step - loss: 0.6242 - accuracy: 0.8391 - val_loss: 2.2670 - val_accuracy: 0.2889\n",
      "\n",
      "Epoch 00033: val_accuracy improved from 0.26667 to 0.28889, saving model to resnet_checkpoint.h5\n",
      "Epoch 34/50\n",
      "55/55 [==============================] - 61s 1s/step - loss: 0.8113 - accuracy: 0.7034 - val_loss: 1.0850 - val_accuracy: 0.1444\n",
      "\n",
      "Epoch 00034: val_accuracy did not improve from 0.28889\n",
      "Epoch 35/50\n",
      "55/55 [==============================] - 60s 1s/step - loss: 0.9464 - accuracy: 0.6401 - val_loss: 4.3365 - val_accuracy: 0.2148\n",
      "\n",
      "Epoch 00035: val_accuracy did not improve from 0.28889\n",
      "Epoch 36/50\n",
      "55/55 [==============================] - 59s 1s/step - loss: 0.5551 - accuracy: 0.8489 - val_loss: 2.3869 - val_accuracy: 0.3296\n",
      "\n",
      "Epoch 00036: val_accuracy improved from 0.28889 to 0.32963, saving model to resnet_checkpoint.h5\n",
      "Epoch 37/50\n",
      "55/55 [==============================] - 60s 1s/step - loss: 0.5325 - accuracy: 0.8330 - val_loss: 1.1011 - val_accuracy: 0.2630\n",
      "\n",
      "Epoch 00037: val_accuracy did not improve from 0.32963\n",
      "Epoch 38/50\n",
      "55/55 [==============================] - 59s 1s/step - loss: 0.6908 - accuracy: 0.7860 - val_loss: 1.8200 - val_accuracy: 0.1630\n",
      "\n",
      "Epoch 00038: val_accuracy did not improve from 0.32963\n",
      "Epoch 39/50\n",
      "55/55 [==============================] - 58s 1s/step - loss: 0.6242 - accuracy: 0.8232 - val_loss: 2.9673 - val_accuracy: 0.1815\n",
      "\n",
      "Epoch 00039: val_accuracy did not improve from 0.32963\n",
      "Epoch 40/50\n",
      "55/55 [==============================] - 59s 1s/step - loss: 0.4137 - accuracy: 0.8858 - val_loss: 1.4857 - val_accuracy: 0.2704\n",
      "\n",
      "Epoch 00040: val_accuracy did not improve from 0.32963\n",
      "Epoch 41/50\n",
      "55/55 [==============================] - 58s 1s/step - loss: 0.5511 - accuracy: 0.8203 - val_loss: 1.3010 - val_accuracy: 0.2951\n",
      "\n",
      "Epoch 00041: val_accuracy did not improve from 0.32963\n",
      "Epoch 42/50\n",
      "55/55 [==============================] - 62s 1s/step - loss: 0.4659 - accuracy: 0.8409 - val_loss: 1.2991 - val_accuracy: 0.3074\n",
      "\n",
      "Epoch 00042: val_accuracy did not improve from 0.32963\n",
      "Epoch 43/50\n",
      "55/55 [==============================] - 61s 1s/step - loss: 0.4138 - accuracy: 0.8824 - val_loss: 4.5241 - val_accuracy: 0.2481\n",
      "\n",
      "Epoch 00043: val_accuracy did not improve from 0.32963\n",
      "Epoch 44/50\n",
      "55/55 [==============================] - 61s 1s/step - loss: 0.3010 - accuracy: 0.9354 - val_loss: 1.4162 - val_accuracy: 0.2481\n",
      "\n",
      "Epoch 00044: val_accuracy did not improve from 0.32963\n",
      "Epoch 45/50\n",
      "55/55 [==============================] - 60s 1s/step - loss: 0.4709 - accuracy: 0.8408 - val_loss: 3.3095 - val_accuracy: 0.2889\n",
      "\n",
      "Epoch 00045: val_accuracy did not improve from 0.32963\n",
      "Epoch 46/50\n",
      "55/55 [==============================] - 60s 1s/step - loss: 0.4678 - accuracy: 0.8547 - val_loss: 2.6771 - val_accuracy: 0.2444\n",
      "\n",
      "Epoch 00046: val_accuracy did not improve from 0.32963\n",
      "Epoch 47/50\n",
      "55/55 [==============================] - 59s 1s/step - loss: 0.2972 - accuracy: 0.9496 - val_loss: 2.3996 - val_accuracy: 0.2037\n",
      "\n",
      "Epoch 00047: val_accuracy did not improve from 0.32963\n",
      "Epoch 48/50\n",
      "55/55 [==============================] - 60s 1s/step - loss: 0.1910 - accuracy: 0.9568 - val_loss: 2.2435 - val_accuracy: 0.2407\n",
      "\n",
      "Epoch 00048: val_accuracy did not improve from 0.32963\n",
      "Epoch 49/50\n",
      "55/55 [==============================] - 59s 1s/step - loss: 0.5865 - accuracy: 0.8281 - val_loss: 4.2738 - val_accuracy: 0.2630\n",
      "\n",
      "Epoch 00049: val_accuracy did not improve from 0.32963\n",
      "Epoch 50/50\n",
      "55/55 [==============================] - 58s 1s/step - loss: 0.2867 - accuracy: 0.9464 - val_loss: 2.2493 - val_accuracy: 0.2815\n",
      "\n",
      "Epoch 00050: val_accuracy did not improve from 0.32963\n"
     ]
    }
   ],
   "source": [
    "es = EarlyStopping(monitor='val_loss', mode='min', verbose=1, patience=10)\n",
    "mc = ModelCheckpoint('resnet_checkpoint.h5', monitor='val_accuracy', mode='max', verbose=1, save_best_only=True)\n",
    "\n",
    "resnet = model.fit_generator(train_generator,\n",
    "                   steps_per_epoch=train_step,\n",
    "                   validation_data=validation_generator,\n",
    "                   validation_steps=val_step,\n",
    "                   epochs=50,\n",
    "                   callbacks=[mc])"
   ]
  },
  {
   "cell_type": "markdown",
   "metadata": {
    "colab_type": "text",
    "id": "a7Kg8bWVV5xt"
   },
   "source": [
    "Saving the model"
   ]
  },
  {
   "cell_type": "code",
   "execution_count": 0,
   "metadata": {
    "colab": {},
    "colab_type": "code",
    "id": "tgMS-1VsWk6N"
   },
   "outputs": [],
   "source": [
    "model.save('/content/drive/My Drive/My Models/resnet.h5')\n",
    "#resnet= models.load_model('/content/drive/My Drive/My Models/resnet.h5')"
   ]
  },
  {
   "cell_type": "code",
   "execution_count": 50,
   "metadata": {
    "colab": {
     "base_uri": "https://localhost:8080/",
     "height": 34
    },
    "colab_type": "code",
    "id": "7uJTW6VdO_AJ",
    "outputId": "cbc66d59-2116-43f8-a82b-b585875d4048"
   },
   "outputs": [
    {
     "data": {
      "text/plain": [
       "[2.5009777545928955, 0.2514156401157379]"
      ]
     },
     "execution_count": 50,
     "metadata": {
      "tags": []
     },
     "output_type": "execute_result"
    }
   ],
   "source": [
    "resnet.model.evaluate_generator(train_generator)"
   ]
  },
  {
   "cell_type": "code",
   "execution_count": 47,
   "metadata": {
    "colab": {
     "base_uri": "https://localhost:8080/",
     "height": 34
    },
    "colab_type": "code",
    "id": "QKtvLqceO_As",
    "outputId": "0a90b16d-bb3c-4000-8734-b42387c0a079"
   },
   "outputs": [
    {
     "data": {
      "text/plain": [
       "[2.21766996383667, 0.24172185361385345]"
      ]
     },
     "execution_count": 47,
     "metadata": {
      "tags": []
     },
     "output_type": "execute_result"
    }
   ],
   "source": [
    "resnet.model.evaluate_generator(validation_generator)"
   ]
  },
  {
   "cell_type": "code",
   "execution_count": 48,
   "metadata": {
    "colab": {
     "base_uri": "https://localhost:8080/",
     "height": 34
    },
    "colab_type": "code",
    "id": "gH_C2me7O_A1",
    "outputId": "d7b32de7-eadc-49cd-ae51-6f513b240c0b"
   },
   "outputs": [
    {
     "data": {
      "text/plain": [
       "[2.3571834564208984, 0.2527233064174652]"
      ]
     },
     "execution_count": 48,
     "metadata": {
      "tags": []
     },
     "output_type": "execute_result"
    }
   ],
   "source": [
    "resnet.model.evaluate_generator(test_generator)"
   ]
  },
  {
   "cell_type": "markdown",
   "metadata": {
    "colab_type": "text",
    "id": "icqiAZcsV5xx"
   },
   "source": [
    "Visualizing Accuracy and Loss "
   ]
  },
  {
   "cell_type": "code",
   "execution_count": 51,
   "metadata": {
    "colab": {
     "base_uri": "https://localhost:8080/",
     "height": 545
    },
    "colab_type": "code",
    "id": "HRiCBcTdWk6Q",
    "outputId": "50da9a75-51ce-4874-c203-86994f90bbf0"
   },
   "outputs": [
    {
     "data": {
      "image/png": "[encoded data removed]",
      "text/plain": [
       "<Figure size 432x288 with 1 Axes>"
      ]
     },
     "metadata": {
      "needs_background": "light",
      "tags": []
     },
     "output_type": "display_data"
    },
    {
     "data": {
      "image/png": "[encoded data removed]",
      "text/plain": [
       "<Figure size 432x288 with 1 Axes>"
      ]
     },
     "metadata": {
      "needs_background": "light",
      "tags": []
     },
     "output_type": "display_data"
    }
   ],
   "source": [
    "val_acc = resnet.history['val_accuracy']\n",
    "val_loss = resnet.history['val_loss']\n",
    "acc = resnet.history['accuracy']\n",
    "loss = resnet.history['loss']\n",
    "\n",
    "# Plot training & validation accuracy values\n",
    "plt.plot(range(50), acc, 'b*-', label = 'Training accuracy')\n",
    "plt.plot(range(50), val_acc, 'r', label = 'Validation accuracy')\n",
    "plt.title('Training and validation accuracy - ResNet50')\n",
    "plt.legend()\n",
    "plt.show()\n",
    "\n",
    "# Plot training & validation loss values\n",
    "plt.plot(range(50), loss, 'b*-', label = 'Training loss')\n",
    "plt.plot(range(50), val_loss, 'r', label = 'Validation loss')\n",
    "plt.title('Training and validation loss - ResNet50')\n",
    "plt.legend()\n",
    "plt.show()"
   ]
  },
  {
   "cell_type": "markdown",
   "metadata": {
    "colab_type": "text",
    "id": "2Xl2nqltqY7E"
   },
   "source": [
    "# **VGG16 - Pretrained**\n",
    "\n",
    "Defining VGG"
   ]
  },
  {
   "cell_type": "code",
   "execution_count": 8,
   "metadata": {
    "colab": {
     "base_uri": "https://localhost:8080/",
     "height": 50
    },
    "colab_type": "code",
    "id": "Z3JffROgXFWE",
    "outputId": "4cff069b-5d38-4eab-c5bf-dd3fce828167"
   },
   "outputs": [
    {
     "name": "stdout",
     "output_type": "stream",
     "text": [
      "Downloading data from https://github.com/fchollet/deep-learning-models/releases/download/v0.1/vgg16_weights_tf_dim_ordering_tf_kernels_notop.h5\n",
      "58892288/58889256 [==============================] - 2s 0us/step\n"
     ]
    }
   ],
   "source": [
    "vgg_pretrained = VGG16(weights = 'imagenet',\n",
    "              include_top = False,\n",
    "              input_shape = (image_size, image_size,3))\n",
    "#Fine-tuning\n",
    "# Freeze the layers except the last 3 layers\n",
    "for layer in vgg_pretrained.layers[:-3]:\n",
    "    layer.trainable = False"
   ]
  },
  {
   "cell_type": "markdown",
   "metadata": {
    "colab_type": "text",
    "id": "9y822-8PYqPp"
   },
   "source": [
    "Model Building"
   ]
  },
  {
   "cell_type": "code",
   "execution_count": 9,
   "metadata": {
    "colab": {
     "base_uri": "https://localhost:8080/",
     "height": 319
    },
    "colab_type": "code",
    "id": "J5DRl8AoYsqG",
    "outputId": "9415702a-8e16-4ada-cdc2-88bba31f6bc6"
   },
   "outputs": [
    {
     "name": "stdout",
     "output_type": "stream",
     "text": [
      "Model: \"sequential_1\"\n",
      "_________________________________________________________________\n",
      "Layer (type)                 Output Shape              Param #   \n",
      "=================================================================\n",
      "vgg16 (Model)                (None, 7, 7, 512)         14714688  \n",
      "_________________________________________________________________\n",
      "flatten_1 (Flatten)          (None, 25088)             0         \n",
      "_________________________________________________________________\n",
      "dense_1 (Dense)              (None, 1024)              25691136  \n",
      "_________________________________________________________________\n",
      "dropout_1 (Dropout)          (None, 1024)              0         \n",
      "_________________________________________________________________\n",
      "dense_2 (Dense)              (None, 6)                 6150      \n",
      "=================================================================\n",
      "Total params: 40,411,974\n",
      "Trainable params: 30,416,902\n",
      "Non-trainable params: 9,995,072\n",
      "_________________________________________________________________\n"
     ]
    }
   ],
   "source": [
    "model = Sequential()\n",
    " \n",
    "# Add the vgg convolutional base model\n",
    "model.add(vgg_pretrained)\n",
    " \n",
    "# Add new layers\n",
    "model.add(Flatten())\n",
    "model.add(Dense(1024, activation='relu'))\n",
    "model.add(Dropout(0.2))\n",
    "model.add(Dense(6, activation='softmax'))\n",
    "\n",
    "# Compile the model\n",
    "model.compile(loss='categorical_crossentropy',\n",
    "              optimizer=Nadam(lr=1e-4),\n",
    "              metrics=['acc'])\n",
    "\n",
    "model.summary()"
   ]
  },
  {
   "cell_type": "markdown",
   "metadata": {
    "colab_type": "text",
    "id": "KYOYhtsxaQXF"
   },
   "source": [
    "Model Train\n"
   ]
  },
  {
   "cell_type": "code",
   "execution_count": 10,
   "metadata": {
    "colab": {
     "base_uri": "https://localhost:8080/",
     "height": 1000
    },
    "colab_type": "code",
    "id": "R9FoPFJjaR7U",
    "outputId": "78fd4f59-ac3a-4ac6-f8ec-cd513e37a363"
   },
   "outputs": [
    {
     "name": "stdout",
     "output_type": "stream",
     "text": [
      "Epoch 1/50\n",
      "56/55 [==============================] - 42s 748ms/step - loss: 2.0852 - acc: 0.2939 - val_loss: 2.9771 - val_acc: 0.4503\n",
      "\n",
      "Epoch 00001: val_acc improved from -inf to 0.45033, saving model to vgg-pretrained_checkpoint.h5\n",
      "Epoch 2/50\n",
      "56/55 [==============================] - 33s 590ms/step - loss: 1.3527 - acc: 0.4428 - val_loss: 1.9254 - val_acc: 0.5530\n",
      "\n",
      "Epoch 00002: val_acc improved from 0.45033 to 0.55298, saving model to vgg-pretrained_checkpoint.h5\n",
      "Epoch 3/50\n",
      "56/55 [==============================] - 34s 609ms/step - loss: 1.1290 - acc: 0.5923 - val_loss: 3.4671 - val_acc: 0.5397\n",
      "\n",
      "Epoch 00003: val_acc did not improve from 0.55298\n",
      "Epoch 4/50\n",
      "56/55 [==============================] - 34s 610ms/step - loss: 0.9429 - acc: 0.6438 - val_loss: 2.6787 - val_acc: 0.6126\n",
      "\n",
      "Epoch 00004: val_acc improved from 0.55298 to 0.61258, saving model to vgg-pretrained_checkpoint.h5\n",
      "Epoch 5/50\n",
      "56/55 [==============================] - 34s 605ms/step - loss: 0.7956 - acc: 0.7061 - val_loss: 1.4692 - val_acc: 0.6656\n",
      "\n",
      "Epoch 00005: val_acc improved from 0.61258 to 0.66556, saving model to vgg-pretrained_checkpoint.h5\n",
      "Epoch 6/50\n",
      "56/55 [==============================] - 34s 603ms/step - loss: 0.6975 - acc: 0.7344 - val_loss: 3.1060 - val_acc: 0.6987\n",
      "\n",
      "Epoch 00006: val_acc improved from 0.66556 to 0.69868, saving model to vgg-pretrained_checkpoint.h5\n",
      "Epoch 7/50\n",
      "56/55 [==============================] - 34s 607ms/step - loss: 0.6485 - acc: 0.7633 - val_loss: 1.1237 - val_acc: 0.7318\n",
      "\n",
      "Epoch 00007: val_acc improved from 0.69868 to 0.73179, saving model to vgg-pretrained_checkpoint.h5\n",
      "Epoch 8/50\n",
      "56/55 [==============================] - 34s 603ms/step - loss: 0.5605 - acc: 0.7990 - val_loss: 1.8821 - val_acc: 0.6887\n",
      "\n",
      "Epoch 00008: val_acc did not improve from 0.73179\n",
      "Epoch 9/50\n",
      "56/55 [==============================] - 34s 611ms/step - loss: 0.4992 - acc: 0.8120 - val_loss: 0.5416 - val_acc: 0.7517\n",
      "\n",
      "Epoch 00009: val_acc improved from 0.73179 to 0.75166, saving model to vgg-pretrained_checkpoint.h5\n",
      "Epoch 10/50\n",
      "56/55 [==============================] - 34s 604ms/step - loss: 0.4449 - acc: 0.8381 - val_loss: 0.6031 - val_acc: 0.7914\n",
      "\n",
      "Epoch 00010: val_acc improved from 0.75166 to 0.79139, saving model to vgg-pretrained_checkpoint.h5\n",
      "Epoch 11/50\n",
      "56/55 [==============================] - 34s 605ms/step - loss: 0.4068 - acc: 0.8550 - val_loss: 1.8938 - val_acc: 0.7285\n",
      "\n",
      "Epoch 00011: val_acc did not improve from 0.79139\n",
      "Epoch 12/50\n",
      "56/55 [==============================] - 34s 609ms/step - loss: 0.3134 - acc: 0.8884 - val_loss: 1.2428 - val_acc: 0.8013\n",
      "\n",
      "Epoch 00012: val_acc improved from 0.79139 to 0.80132, saving model to vgg-pretrained_checkpoint.h5\n",
      "Epoch 13/50\n",
      "56/55 [==============================] - 34s 602ms/step - loss: 0.2659 - acc: 0.8998 - val_loss: 1.6342 - val_acc: 0.7815\n",
      "\n",
      "Epoch 00013: val_acc did not improve from 0.80132\n",
      "Epoch 14/50\n",
      "56/55 [==============================] - 34s 611ms/step - loss: 0.2572 - acc: 0.9083 - val_loss: 0.3774 - val_acc: 0.7881\n",
      "\n",
      "Epoch 00014: val_acc did not improve from 0.80132\n",
      "Epoch 15/50\n",
      "56/55 [==============================] - 34s 610ms/step - loss: 0.2267 - acc: 0.9179 - val_loss: 0.6871 - val_acc: 0.8146\n",
      "\n",
      "Epoch 00015: val_acc improved from 0.80132 to 0.81457, saving model to vgg-pretrained_checkpoint.h5\n",
      "Epoch 16/50\n",
      "56/55 [==============================] - 34s 605ms/step - loss: 0.2184 - acc: 0.9207 - val_loss: 1.9946 - val_acc: 0.7781\n",
      "\n",
      "Epoch 00016: val_acc did not improve from 0.81457\n",
      "Epoch 17/50\n",
      "56/55 [==============================] - 34s 612ms/step - loss: 0.2045 - acc: 0.9281 - val_loss: 0.5445 - val_acc: 0.8113\n",
      "\n",
      "Epoch 00017: val_acc did not improve from 0.81457\n",
      "Epoch 18/50\n",
      "56/55 [==============================] - 34s 608ms/step - loss: 0.1519 - acc: 0.9473 - val_loss: 1.0770 - val_acc: 0.7881\n",
      "\n",
      "Epoch 00018: val_acc did not improve from 0.81457\n",
      "Epoch 19/50\n",
      "56/55 [==============================] - 34s 609ms/step - loss: 0.1139 - acc: 0.9626 - val_loss: 1.2546 - val_acc: 0.8046\n",
      "\n",
      "Epoch 00019: val_acc did not improve from 0.81457\n",
      "Epoch 20/50\n",
      "56/55 [==============================] - 34s 609ms/step - loss: 0.1245 - acc: 0.9592 - val_loss: 0.6890 - val_acc: 0.8212\n",
      "\n",
      "Epoch 00020: val_acc improved from 0.81457 to 0.82119, saving model to vgg-pretrained_checkpoint.h5\n",
      "Epoch 21/50\n",
      "56/55 [==============================] - 34s 602ms/step - loss: 0.1133 - acc: 0.9575 - val_loss: 0.2999 - val_acc: 0.7980\n",
      "\n",
      "Epoch 00021: val_acc did not improve from 0.82119\n",
      "Epoch 22/50\n",
      "56/55 [==============================] - 34s 606ms/step - loss: 0.0883 - acc: 0.9683 - val_loss: 0.3458 - val_acc: 0.8013\n",
      "\n",
      "Epoch 00022: val_acc did not improve from 0.82119\n",
      "Epoch 23/50\n",
      "56/55 [==============================] - 34s 606ms/step - loss: 0.0749 - acc: 0.9745 - val_loss: 0.5843 - val_acc: 0.8146\n",
      "\n",
      "Epoch 00023: val_acc did not improve from 0.82119\n",
      "Epoch 24/50\n",
      "56/55 [==============================] - 34s 608ms/step - loss: 0.0811 - acc: 0.9762 - val_loss: 0.8295 - val_acc: 0.8212\n",
      "\n",
      "Epoch 00024: val_acc did not improve from 0.82119\n",
      "Epoch 25/50\n",
      "56/55 [==============================] - 34s 604ms/step - loss: 0.0821 - acc: 0.9751 - val_loss: 0.6150 - val_acc: 0.8311\n",
      "\n",
      "Epoch 00025: val_acc improved from 0.82119 to 0.83113, saving model to vgg-pretrained_checkpoint.h5\n",
      "Epoch 26/50\n",
      "56/55 [==============================] - 34s 602ms/step - loss: 0.0838 - acc: 0.9711 - val_loss: 0.3760 - val_acc: 0.8179\n",
      "\n",
      "Epoch 00026: val_acc did not improve from 0.83113\n",
      "Epoch 27/50\n",
      "56/55 [==============================] - 34s 607ms/step - loss: 0.0698 - acc: 0.9785 - val_loss: 1.5293 - val_acc: 0.8477\n",
      "\n",
      "Epoch 00027: val_acc improved from 0.83113 to 0.84768, saving model to vgg-pretrained_checkpoint.h5\n",
      "Epoch 28/50\n",
      "56/55 [==============================] - 33s 598ms/step - loss: 0.0829 - acc: 0.9706 - val_loss: 0.3145 - val_acc: 0.8245\n",
      "\n",
      "Epoch 00028: val_acc did not improve from 0.84768\n",
      "Epoch 29/50\n",
      "56/55 [==============================] - 34s 604ms/step - loss: 0.0591 - acc: 0.9819 - val_loss: 1.0955 - val_acc: 0.8278\n",
      "\n",
      "Epoch 00029: val_acc did not improve from 0.84768\n",
      "Epoch 30/50\n",
      "56/55 [==============================] - 34s 612ms/step - loss: 0.0709 - acc: 0.9807 - val_loss: 0.7339 - val_acc: 0.8146\n",
      "\n",
      "Epoch 00030: val_acc did not improve from 0.84768\n",
      "Epoch 31/50\n",
      "56/55 [==============================] - 34s 604ms/step - loss: 0.1026 - acc: 0.9677 - val_loss: 0.8812 - val_acc: 0.8344\n",
      "\n",
      "Epoch 00031: val_acc did not improve from 0.84768\n",
      "Epoch 32/50\n",
      "56/55 [==============================] - 34s 606ms/step - loss: 0.0320 - acc: 0.9892 - val_loss: 1.0362 - val_acc: 0.8179\n",
      "\n",
      "Epoch 00032: val_acc did not improve from 0.84768\n",
      "Epoch 33/50\n",
      "56/55 [==============================] - 34s 608ms/step - loss: 0.0516 - acc: 0.9819 - val_loss: 0.5489 - val_acc: 0.8311\n",
      "\n",
      "Epoch 00033: val_acc did not improve from 0.84768\n",
      "Epoch 34/50\n",
      "56/55 [==============================] - 34s 608ms/step - loss: 0.0400 - acc: 0.9858 - val_loss: 0.5815 - val_acc: 0.8179\n",
      "\n",
      "Epoch 00034: val_acc did not improve from 0.84768\n",
      "Epoch 35/50\n",
      "56/55 [==============================] - 34s 612ms/step - loss: 0.0263 - acc: 0.9909 - val_loss: 0.6867 - val_acc: 0.8311\n",
      "\n",
      "Epoch 00035: val_acc did not improve from 0.84768\n",
      "Epoch 36/50\n",
      "56/55 [==============================] - 34s 608ms/step - loss: 0.0201 - acc: 0.9943 - val_loss: 1.2434 - val_acc: 0.8079\n",
      "\n",
      "Epoch 00036: val_acc did not improve from 0.84768\n",
      "Epoch 37/50\n",
      "56/55 [==============================] - 34s 609ms/step - loss: 0.0224 - acc: 0.9943 - val_loss: 0.7069 - val_acc: 0.8510\n",
      "\n",
      "Epoch 00037: val_acc improved from 0.84768 to 0.85099, saving model to vgg-pretrained_checkpoint.h5\n",
      "Epoch 38/50\n",
      "56/55 [==============================] - 34s 606ms/step - loss: 0.0214 - acc: 0.9932 - val_loss: 1.1935 - val_acc: 0.8377\n",
      "\n",
      "Epoch 00038: val_acc did not improve from 0.85099\n",
      "Epoch 39/50\n",
      "56/55 [==============================] - 34s 611ms/step - loss: 0.0257 - acc: 0.9904 - val_loss: 0.3775 - val_acc: 0.8278\n",
      "\n",
      "Epoch 00039: val_acc did not improve from 0.85099\n",
      "Epoch 40/50\n",
      "56/55 [==============================] - 34s 611ms/step - loss: 0.0399 - acc: 0.9864 - val_loss: 0.5860 - val_acc: 0.8411\n",
      "\n",
      "Epoch 00040: val_acc did not improve from 0.85099\n",
      "Epoch 41/50\n",
      "56/55 [==============================] - 34s 611ms/step - loss: 0.1042 - acc: 0.9666 - val_loss: 2.3294 - val_acc: 0.6656\n",
      "\n",
      "Epoch 00041: val_acc did not improve from 0.85099\n",
      "Epoch 42/50\n",
      "56/55 [==============================] - 34s 609ms/step - loss: 0.1528 - acc: 0.9490 - val_loss: 0.3356 - val_acc: 0.7815\n",
      "\n",
      "Epoch 00042: val_acc did not improve from 0.85099\n",
      "Epoch 43/50\n",
      "56/55 [==============================] - 34s 609ms/step - loss: 0.0761 - acc: 0.9723 - val_loss: 0.1708 - val_acc: 0.8212\n",
      "\n",
      "Epoch 00043: val_acc did not improve from 0.85099\n",
      "Epoch 44/50\n",
      "56/55 [==============================] - 34s 611ms/step - loss: 0.0406 - acc: 0.9892 - val_loss: 0.5237 - val_acc: 0.8444\n",
      "\n",
      "Epoch 00044: val_acc did not improve from 0.85099\n",
      "Epoch 45/50\n",
      "56/55 [==============================] - 34s 609ms/step - loss: 0.0263 - acc: 0.9904 - val_loss: 1.2384 - val_acc: 0.8477\n",
      "\n",
      "Epoch 00045: val_acc did not improve from 0.85099\n",
      "Epoch 46/50\n",
      "56/55 [==============================] - 34s 611ms/step - loss: 0.0426 - acc: 0.9904 - val_loss: 0.9385 - val_acc: 0.8344\n",
      "\n",
      "Epoch 00046: val_acc did not improve from 0.85099\n",
      "Epoch 47/50\n",
      "56/55 [==============================] - 34s 615ms/step - loss: 0.0169 - acc: 0.9949 - val_loss: 1.3370 - val_acc: 0.8510\n",
      "\n",
      "Epoch 00047: val_acc did not improve from 0.85099\n",
      "Epoch 48/50\n",
      "56/55 [==============================] - 34s 613ms/step - loss: 0.0155 - acc: 0.9955 - val_loss: 0.3564 - val_acc: 0.8079\n",
      "\n",
      "Epoch 00048: val_acc did not improve from 0.85099\n",
      "Epoch 49/50\n",
      "56/55 [==============================] - 34s 609ms/step - loss: 0.0175 - acc: 0.9938 - val_loss: 1.1349 - val_acc: 0.8212\n",
      "\n",
      "Epoch 00049: val_acc did not improve from 0.85099\n",
      "Epoch 50/50\n",
      "56/55 [==============================] - 34s 611ms/step - loss: 0.0197 - acc: 0.9921 - val_loss: 0.8888 - val_acc: 0.8377\n",
      "\n",
      "Epoch 00050: val_acc did not improve from 0.85099\n"
     ]
    }
   ],
   "source": [
    "es = EarlyStopping(monitor='val_loss', mode='min', verbose=1, patience=10)\n",
    "mc = ModelCheckpoint('vgg-pretrained_checkpoint.h5', monitor='val_acc', mode='max', verbose=1, save_best_only=True)\n",
    "\n",
    "\n",
    "vgg_pretrained = model.fit_generator(\n",
    "    train_generator,\n",
    "    steps_per_epoch=train_generator.samples/train_generator.batch_size ,\n",
    "    epochs=50,\n",
    "    validation_data=validation_generator,\n",
    "    validation_steps=validation_generator.samples/validation_generator.batch_size,\n",
    "    verbose=1,\n",
    "    callbacks = [mc],)"
   ]
  },
  {
   "cell_type": "markdown",
   "metadata": {
    "colab_type": "text",
    "id": "5rxUC8Z2cbY1"
   },
   "source": [
    "Saving the model"
   ]
  },
  {
   "cell_type": "code",
   "execution_count": 0,
   "metadata": {
    "colab": {},
    "colab_type": "code",
    "id": "tiJcgyIccbY2"
   },
   "outputs": [],
   "source": [
    "model.save('/content/drive/My Drive/My Models/vgg-pretrained.h5')\n",
    "#vgg_pretrained_1= models.load_model('/content/drive/My Drive/My Models/vgg-pretrained.h5')"
   ]
  },
  {
   "cell_type": "code",
   "execution_count": 12,
   "metadata": {
    "colab": {
     "base_uri": "https://localhost:8080/",
     "height": 34
    },
    "colab_type": "code",
    "id": "VrcdfDZf2DrN",
    "outputId": "e2a7a698-d35e-4f48-a182-359e2f22aebf"
   },
   "outputs": [
    {
     "data": {
      "text/plain": [
       "[2.5072804419323802e-05, 0.9943374991416931]"
      ]
     },
     "execution_count": 12,
     "metadata": {
      "tags": []
     },
     "output_type": "execute_result"
    }
   ],
   "source": [
    "vgg_pretrained.model.evaluate_generator(train_generator)"
   ]
  },
  {
   "cell_type": "code",
   "execution_count": 13,
   "metadata": {
    "colab": {
     "base_uri": "https://localhost:8080/",
     "height": 34
    },
    "colab_type": "code",
    "id": "C7SFrfNu2Drj",
    "outputId": "b8d42c62-6885-4ae1-9f77-01cfdefc74f5"
   },
   "outputs": [
    {
     "data": {
      "text/plain": [
       "[1.3357126712799072, 0.8245033025741577]"
      ]
     },
     "execution_count": 13,
     "metadata": {
      "tags": []
     },
     "output_type": "execute_result"
    }
   ],
   "source": [
    "vgg_pretrained.model.evaluate_generator(validation_generator)"
   ]
  },
  {
   "cell_type": "code",
   "execution_count": 14,
   "metadata": {
    "colab": {
     "base_uri": "https://localhost:8080/",
     "height": 34
    },
    "colab_type": "code",
    "id": "6nZz-lKY2Drr",
    "outputId": "21ff7ee3-857a-4a10-e400-3cf74bf20718"
   },
   "outputs": [
    {
     "data": {
      "text/plain": [
       "[5.882878303527832, 0.8104575276374817]"
      ]
     },
     "execution_count": 14,
     "metadata": {
      "tags": []
     },
     "output_type": "execute_result"
    }
   ],
   "source": [
    "vgg_pretrained.model.evaluate_generator(test_generator)"
   ]
  },
  {
   "cell_type": "markdown",
   "metadata": {
    "colab_type": "text",
    "id": "tMUQnlXwcbY5"
   },
   "source": [
    "Visualizing Accuracy and Loss "
   ]
  },
  {
   "cell_type": "code",
   "execution_count": 15,
   "metadata": {
    "colab": {
     "base_uri": "https://localhost:8080/",
     "height": 545
    },
    "colab_type": "code",
    "id": "AeK39pTbcbY5",
    "outputId": "1697bcd3-a611-4636-bab4-0da12afc0162"
   },
   "outputs": [
    {
     "data": {
      "image/png": "[encoded data removed]",
      "text/plain": [
       "<Figure size 432x288 with 1 Axes>"
      ]
     },
     "metadata": {
      "needs_background": "light",
      "tags": []
     },
     "output_type": "display_data"
    },
    {
     "data": {
      "image/png": "[encoded data removed]",
      "text/plain": [
       "<Figure size 432x288 with 1 Axes>"
      ]
     },
     "metadata": {
      "needs_background": "light",
      "tags": []
     },
     "output_type": "display_data"
    }
   ],
   "source": [
    "val_acc = vgg_pretrained.history['val_acc']\n",
    "val_loss = vgg_pretrained.history['val_loss']\n",
    "acc = vgg_pretrained.history['acc']\n",
    "loss = vgg_pretrained.history['loss']\n",
    "\n",
    "# Plot training & validation accuracy values\n",
    "plt.plot(range(50), acc, 'b*-', label = 'Training accuracy')\n",
    "plt.plot(range(50), val_acc, 'r', label = 'Validation accuracy')\n",
    "plt.title('Training and validation accuracy - VGG-PreTrained')\n",
    "plt.legend()\n",
    "plt.show()\n",
    "\n",
    "# Plot training & validation loss values\n",
    "plt.plot(range(50), loss, 'b*-', label = 'Training loss')\n",
    "plt.plot(range(50), val_loss, 'r', label = 'Validation loss')\n",
    "plt.title('Training and validation loss - VGG-PreTrained')\n",
    "plt.legend()\n",
    "plt.show()"
   ]
  },
  {
   "cell_type": "markdown",
   "metadata": {
    "colab_type": "text",
    "id": "vU8GpttgdEkX"
   },
   "source": [
    "# **VGG16**\n",
    "\n",
    "Defining VGG"
   ]
  },
  {
   "cell_type": "code",
   "execution_count": 16,
   "metadata": {
    "colab": {
     "base_uri": "https://localhost:8080/",
     "height": 34
    },
    "colab_type": "code",
    "id": "7S_OmGA3dEkb",
    "outputId": "90fe5158-25bf-4bd0-8b26-5c78458d2f61"
   },
   "outputs": [
    {
     "data": {
      "text/plain": [
       "'for layer in vgg.layers[:-3]:\\n    layer.trainable = False'"
      ]
     },
     "execution_count": 16,
     "metadata": {
      "tags": []
     },
     "output_type": "execute_result"
    }
   ],
   "source": [
    "vgg = VGG16(weights = None,\n",
    "              include_top = False,\n",
    "              input_shape = (image_size, image_size,3))\n",
    "#Fine-tuning\n",
    "# Freeze the layers except the last 3 layers\n",
    "'''for layer in vgg.layers[:-3]:\n",
    "    layer.trainable = False'''"
   ]
  },
  {
   "cell_type": "markdown",
   "metadata": {
    "colab_type": "text",
    "id": "tn36viLidEkf"
   },
   "source": [
    "Model Building"
   ]
  },
  {
   "cell_type": "code",
   "execution_count": 17,
   "metadata": {
    "colab": {
     "base_uri": "https://localhost:8080/",
     "height": 319
    },
    "colab_type": "code",
    "id": "yI5WvnUadEkf",
    "outputId": "71d7c661-8029-4fa9-b033-fa975b0c2252"
   },
   "outputs": [
    {
     "name": "stdout",
     "output_type": "stream",
     "text": [
      "Model: \"sequential_2\"\n",
      "_________________________________________________________________\n",
      "Layer (type)                 Output Shape              Param #   \n",
      "=================================================================\n",
      "vgg16 (Model)                (None, 7, 7, 512)         14714688  \n",
      "_________________________________________________________________\n",
      "flatten_2 (Flatten)          (None, 25088)             0         \n",
      "_________________________________________________________________\n",
      "dense_3 (Dense)              (None, 1024)              25691136  \n",
      "_________________________________________________________________\n",
      "dropout_2 (Dropout)          (None, 1024)              0         \n",
      "_________________________________________________________________\n",
      "dense_4 (Dense)              (None, 6)                 6150      \n",
      "=================================================================\n",
      "Total params: 40,411,974\n",
      "Trainable params: 40,411,974\n",
      "Non-trainable params: 0\n",
      "_________________________________________________________________\n"
     ]
    }
   ],
   "source": [
    "model = Sequential()\n",
    " \n",
    "# Add the vgg convolutional base model\n",
    "model.add(vgg)\n",
    " \n",
    "# Add new layers\n",
    "model.add(Flatten())\n",
    "model.add(Dense(1024, activation='relu'))\n",
    "model.add(Dropout(0.2))\n",
    "model.add(Dense(6, activation='softmax'))\n",
    "\n",
    "# Compile the model\n",
    "model.compile(loss='categorical_crossentropy',\n",
    "              optimizer=Nadam(lr=1e-4),\n",
    "              metrics=['acc'])\n",
    "\n",
    "model.summary()"
   ]
  },
  {
   "cell_type": "markdown",
   "metadata": {
    "colab_type": "text",
    "id": "majbby9idEki"
   },
   "source": [
    "Model Train\n"
   ]
  },
  {
   "cell_type": "code",
   "execution_count": 18,
   "metadata": {
    "colab": {
     "base_uri": "https://localhost:8080/",
     "height": 1000
    },
    "colab_type": "code",
    "id": "_zGChdwhdEki",
    "outputId": "f1706cc7-0c68-45d1-9d71-92dced342311"
   },
   "outputs": [
    {
     "name": "stdout",
     "output_type": "stream",
     "text": [
      "Epoch 1/50\n",
      "56/55 [==============================] - 60s 1s/step - loss: 1.8658 - acc: 0.0951 - val_loss: 1.8200 - val_acc: 0.2351\n",
      "\n",
      "Epoch 00001: val_acc improved from -inf to 0.23510, saving model to vgg_checkpoint.h5\n",
      "Epoch 2/50\n",
      "56/55 [==============================] - 52s 922ms/step - loss: 2.3714 - acc: 0.2197 - val_loss: 1.9083 - val_acc: 0.2351\n",
      "\n",
      "Epoch 00002: val_acc did not improve from 0.23510\n",
      "Epoch 3/50\n",
      "56/55 [==============================] - 51s 919ms/step - loss: 1.8050 - acc: 0.2293 - val_loss: 2.0054 - val_acc: 0.2351\n",
      "\n",
      "Epoch 00003: val_acc did not improve from 0.23510\n",
      "Epoch 4/50\n",
      "56/55 [==============================] - 51s 917ms/step - loss: 1.7731 - acc: 0.2350 - val_loss: 2.1119 - val_acc: 0.2351\n",
      "\n",
      "Epoch 00004: val_acc did not improve from 0.23510\n",
      "Epoch 5/50\n",
      "56/55 [==============================] - 51s 919ms/step - loss: 1.7576 - acc: 0.2350 - val_loss: 2.5727 - val_acc: 0.2351\n",
      "\n",
      "Epoch 00005: val_acc did not improve from 0.23510\n",
      "Epoch 6/50\n",
      "56/55 [==============================] - 51s 917ms/step - loss: 1.7766 - acc: 0.2350 - val_loss: 2.2734 - val_acc: 0.2351\n",
      "\n",
      "Epoch 00006: val_acc did not improve from 0.23510\n",
      "Epoch 7/50\n",
      "56/55 [==============================] - 51s 918ms/step - loss: 1.7606 - acc: 0.2350 - val_loss: 2.4080 - val_acc: 0.2351\n",
      "\n",
      "Epoch 00007: val_acc did not improve from 0.23510\n",
      "Epoch 8/50\n",
      "56/55 [==============================] - 51s 918ms/step - loss: 1.7598 - acc: 0.2350 - val_loss: 2.2992 - val_acc: 0.2351\n",
      "\n",
      "Epoch 00008: val_acc did not improve from 0.23510\n",
      "Epoch 9/50\n",
      "56/55 [==============================] - 51s 918ms/step - loss: 1.7562 - acc: 0.2350 - val_loss: 2.4072 - val_acc: 0.2351\n",
      "\n",
      "Epoch 00009: val_acc did not improve from 0.23510\n",
      "Epoch 10/50\n",
      "56/55 [==============================] - 51s 918ms/step - loss: 1.7587 - acc: 0.2350 - val_loss: 2.4006 - val_acc: 0.2351\n",
      "\n",
      "Epoch 00010: val_acc did not improve from 0.23510\n",
      "Epoch 11/50\n",
      "56/55 [==============================] - 51s 918ms/step - loss: 1.7529 - acc: 0.2350 - val_loss: 2.4767 - val_acc: 0.2351\n",
      "\n",
      "Epoch 00011: val_acc did not improve from 0.23510\n",
      "Epoch 12/50\n",
      "56/55 [==============================] - 51s 917ms/step - loss: 1.7548 - acc: 0.2350 - val_loss: 2.4550 - val_acc: 0.2351\n",
      "\n",
      "Epoch 00012: val_acc did not improve from 0.23510\n",
      "Epoch 13/50\n",
      "56/55 [==============================] - 51s 918ms/step - loss: 1.7535 - acc: 0.2350 - val_loss: 2.5080 - val_acc: 0.2351\n",
      "\n",
      "Epoch 00013: val_acc did not improve from 0.23510\n",
      "Epoch 14/50\n",
      "56/55 [==============================] - 51s 917ms/step - loss: 1.7534 - acc: 0.2350 - val_loss: 2.4831 - val_acc: 0.2351\n",
      "\n",
      "Epoch 00014: val_acc did not improve from 0.23510\n",
      "Epoch 15/50\n",
      "56/55 [==============================] - 51s 917ms/step - loss: 1.7484 - acc: 0.2350 - val_loss: 2.6104 - val_acc: 0.2351\n",
      "\n",
      "Epoch 00015: val_acc did not improve from 0.23510\n",
      "Epoch 16/50\n",
      "56/55 [==============================] - 51s 917ms/step - loss: 1.7522 - acc: 0.2350 - val_loss: 2.3941 - val_acc: 0.2351\n",
      "\n",
      "Epoch 00016: val_acc did not improve from 0.23510\n",
      "Epoch 17/50\n",
      "56/55 [==============================] - 51s 915ms/step - loss: 1.7674 - acc: 0.1948 - val_loss: 2.3512 - val_acc: 0.2351\n",
      "\n",
      "Epoch 00017: val_acc did not improve from 0.23510\n",
      "Epoch 18/50\n",
      "56/55 [==============================] - 51s 913ms/step - loss: 1.7547 - acc: 0.2350 - val_loss: 2.5643 - val_acc: 0.2351\n",
      "\n",
      "Epoch 00018: val_acc did not improve from 0.23510\n",
      "Epoch 19/50\n",
      "56/55 [==============================] - 51s 914ms/step - loss: 1.7555 - acc: 0.2089 - val_loss: 2.5021 - val_acc: 0.2351\n",
      "\n",
      "Epoch 00019: val_acc did not improve from 0.23510\n",
      "Epoch 20/50\n",
      "56/55 [==============================] - 51s 915ms/step - loss: 1.7976 - acc: 0.1954 - val_loss: 2.4722 - val_acc: 0.2351\n",
      "\n",
      "Epoch 00020: val_acc did not improve from 0.23510\n",
      "Epoch 21/50\n",
      "56/55 [==============================] - 51s 916ms/step - loss: 1.7592 - acc: 0.2186 - val_loss: 2.4533 - val_acc: 0.2351\n",
      "\n",
      "Epoch 00021: val_acc did not improve from 0.23510\n",
      "Epoch 22/50\n",
      "56/55 [==============================] - 51s 914ms/step - loss: 1.7531 - acc: 0.2333 - val_loss: 2.4874 - val_acc: 0.2351\n",
      "\n",
      "Epoch 00022: val_acc did not improve from 0.23510\n",
      "Epoch 23/50\n",
      "56/55 [==============================] - 51s 914ms/step - loss: 1.7510 - acc: 0.2344 - val_loss: 2.5314 - val_acc: 0.2351\n",
      "\n",
      "Epoch 00023: val_acc did not improve from 0.23510\n",
      "Epoch 24/50\n",
      "56/55 [==============================] - 51s 912ms/step - loss: 1.7624 - acc: 0.2157 - val_loss: 2.4266 - val_acc: 0.2351\n",
      "\n",
      "Epoch 00024: val_acc did not improve from 0.23510\n",
      "Epoch 25/50\n",
      "56/55 [==============================] - 51s 911ms/step - loss: 1.7577 - acc: 0.2293 - val_loss: 2.6969 - val_acc: 0.2351\n",
      "\n",
      "Epoch 00025: val_acc did not improve from 0.23510\n",
      "Epoch 26/50\n",
      "56/55 [==============================] - 51s 909ms/step - loss: 1.7548 - acc: 0.2050 - val_loss: 2.5732 - val_acc: 0.2351\n",
      "\n",
      "Epoch 00026: val_acc did not improve from 0.23510\n",
      "Epoch 27/50\n",
      "56/55 [==============================] - 51s 912ms/step - loss: 1.7491 - acc: 0.2361 - val_loss: 2.5852 - val_acc: 0.2351\n",
      "\n",
      "Epoch 00027: val_acc did not improve from 0.23510\n",
      "Epoch 28/50\n",
      "56/55 [==============================] - 51s 912ms/step - loss: 1.7538 - acc: 0.2339 - val_loss: 2.5741 - val_acc: 0.2351\n",
      "\n",
      "Epoch 00028: val_acc did not improve from 0.23510\n",
      "Epoch 29/50\n",
      "56/55 [==============================] - 51s 911ms/step - loss: 1.7644 - acc: 0.2197 - val_loss: 2.5332 - val_acc: 0.2351\n",
      "\n",
      "Epoch 00029: val_acc did not improve from 0.23510\n",
      "Epoch 30/50\n",
      "56/55 [==============================] - 51s 911ms/step - loss: 1.7577 - acc: 0.1795 - val_loss: 2.4990 - val_acc: 0.2351\n",
      "\n",
      "Epoch 00030: val_acc did not improve from 0.23510\n",
      "Epoch 31/50\n",
      "56/55 [==============================] - 51s 911ms/step - loss: 1.7526 - acc: 0.2310 - val_loss: 2.4759 - val_acc: 0.2351\n",
      "\n",
      "Epoch 00031: val_acc did not improve from 0.23510\n",
      "Epoch 32/50\n",
      "56/55 [==============================] - 51s 912ms/step - loss: 1.7512 - acc: 0.2265 - val_loss: 2.5012 - val_acc: 0.2351\n",
      "\n",
      "Epoch 00032: val_acc did not improve from 0.23510\n",
      "Epoch 33/50\n",
      "56/55 [==============================] - 51s 910ms/step - loss: 1.7493 - acc: 0.2135 - val_loss: 2.5290 - val_acc: 0.2351\n",
      "\n",
      "Epoch 00033: val_acc did not improve from 0.23510\n",
      "Epoch 34/50\n",
      "56/55 [==============================] - 51s 911ms/step - loss: 1.7485 - acc: 0.2350 - val_loss: 2.5713 - val_acc: 0.2351\n",
      "\n",
      "Epoch 00034: val_acc did not improve from 0.23510\n",
      "Epoch 35/50\n",
      "56/55 [==============================] - 51s 912ms/step - loss: 1.7496 - acc: 0.2356 - val_loss: 2.5856 - val_acc: 0.2351\n",
      "\n",
      "Epoch 00035: val_acc did not improve from 0.23510\n",
      "Epoch 36/50\n",
      "56/55 [==============================] - 51s 912ms/step - loss: 1.7490 - acc: 0.2350 - val_loss: 2.5998 - val_acc: 0.2351\n",
      "\n",
      "Epoch 00036: val_acc did not improve from 0.23510\n",
      "Epoch 37/50\n",
      "56/55 [==============================] - 51s 911ms/step - loss: 1.7478 - acc: 0.2344 - val_loss: 2.5683 - val_acc: 0.2351\n",
      "\n",
      "Epoch 00037: val_acc did not improve from 0.23510\n",
      "Epoch 38/50\n",
      "56/55 [==============================] - 51s 911ms/step - loss: 1.7518 - acc: 0.2350 - val_loss: 2.6232 - val_acc: 0.2351\n",
      "\n",
      "Epoch 00038: val_acc did not improve from 0.23510\n",
      "Epoch 39/50\n",
      "56/55 [==============================] - 51s 911ms/step - loss: 1.7525 - acc: 0.2350 - val_loss: 2.5199 - val_acc: 0.2351\n",
      "\n",
      "Epoch 00039: val_acc did not improve from 0.23510\n",
      "Epoch 40/50\n",
      "56/55 [==============================] - 51s 911ms/step - loss: 1.7483 - acc: 0.2350 - val_loss: 2.5740 - val_acc: 0.2351\n",
      "\n",
      "Epoch 00040: val_acc did not improve from 0.23510\n",
      "Epoch 41/50\n",
      "56/55 [==============================] - 51s 912ms/step - loss: 1.7492 - acc: 0.2350 - val_loss: 2.5794 - val_acc: 0.2351\n",
      "\n",
      "Epoch 00041: val_acc did not improve from 0.23510\n",
      "Epoch 42/50\n",
      "56/55 [==============================] - 51s 911ms/step - loss: 1.7477 - acc: 0.2350 - val_loss: 2.5982 - val_acc: 0.2351\n",
      "\n",
      "Epoch 00042: val_acc did not improve from 0.23510\n",
      "Epoch 43/50\n",
      "56/55 [==============================] - 51s 911ms/step - loss: 1.7479 - acc: 0.2350 - val_loss: 2.5829 - val_acc: 0.2351\n",
      "\n",
      "Epoch 00043: val_acc did not improve from 0.23510\n",
      "Epoch 44/50\n",
      "56/55 [==============================] - 51s 911ms/step - loss: 1.7486 - acc: 0.2350 - val_loss: 2.6425 - val_acc: 0.2351\n",
      "\n",
      "Epoch 00044: val_acc did not improve from 0.23510\n",
      "Epoch 45/50\n",
      "56/55 [==============================] - 51s 911ms/step - loss: 1.7501 - acc: 0.2310 - val_loss: 2.5513 - val_acc: 0.2351\n",
      "\n",
      "Epoch 00045: val_acc did not improve from 0.23510\n",
      "Epoch 46/50\n",
      "56/55 [==============================] - 51s 910ms/step - loss: 1.7454 - acc: 0.2350 - val_loss: 2.6193 - val_acc: 0.2351\n",
      "\n",
      "Epoch 00046: val_acc did not improve from 0.23510\n",
      "Epoch 47/50\n",
      "56/55 [==============================] - 51s 910ms/step - loss: 1.7476 - acc: 0.2350 - val_loss: 2.6110 - val_acc: 0.2351\n",
      "\n",
      "Epoch 00047: val_acc did not improve from 0.23510\n",
      "Epoch 48/50\n",
      "56/55 [==============================] - 51s 910ms/step - loss: 1.7509 - acc: 0.2350 - val_loss: 2.6454 - val_acc: 0.2351\n",
      "\n",
      "Epoch 00048: val_acc did not improve from 0.23510\n",
      "Epoch 49/50\n",
      "56/55 [==============================] - 51s 911ms/step - loss: 1.7464 - acc: 0.2350 - val_loss: 2.5294 - val_acc: 0.2351\n",
      "\n",
      "Epoch 00049: val_acc did not improve from 0.23510\n",
      "Epoch 50/50\n",
      "56/55 [==============================] - 51s 910ms/step - loss: 1.7470 - acc: 0.2350 - val_loss: 2.5790 - val_acc: 0.2351\n",
      "\n",
      "Epoch 00050: val_acc did not improve from 0.23510\n"
     ]
    }
   ],
   "source": [
    "es = EarlyStopping(monitor='val_loss', mode='min', verbose=1, patience=10)\n",
    "mc = ModelCheckpoint('vgg_checkpoint.h5', monitor='val_acc', mode='max', verbose=1, save_best_only=True)\n",
    "\n",
    "\n",
    "vgg = model.fit_generator(\n",
    "    train_generator,\n",
    "    steps_per_epoch=train_generator.samples/train_generator.batch_size ,\n",
    "    epochs=50,\n",
    "    validation_data=validation_generator,\n",
    "    validation_steps=validation_generator.samples/validation_generator.batch_size,\n",
    "    verbose=1,\n",
    "    callbacks = [mc],)"
   ]
  },
  {
   "cell_type": "markdown",
   "metadata": {
    "colab_type": "text",
    "id": "FirD4qNbdEkm"
   },
   "source": [
    "Saving the model"
   ]
  },
  {
   "cell_type": "code",
   "execution_count": 0,
   "metadata": {
    "colab": {},
    "colab_type": "code",
    "id": "Qfiio-dKdEkm"
   },
   "outputs": [],
   "source": [
    "model.save('/content/drive/My Drive/My Models/vgg.h5')\n",
    "#vgg= models.load_model('/content/drive/My Drive/My Models/vgg.h5')"
   ]
  },
  {
   "cell_type": "code",
   "execution_count": 20,
   "metadata": {
    "colab": {
     "base_uri": "https://localhost:8080/",
     "height": 34
    },
    "colab_type": "code",
    "id": "jnxyn9FE2SjQ",
    "outputId": "63db0dda-779d-4f33-b54b-44692353d1ef"
   },
   "outputs": [
    {
     "data": {
      "text/plain": [
       "[2.5789988040924072, 0.2349943369626999]"
      ]
     },
     "execution_count": 20,
     "metadata": {
      "tags": []
     },
     "output_type": "execute_result"
    }
   ],
   "source": [
    "vgg.model.evaluate_generator(train_generator)"
   ]
  },
  {
   "cell_type": "code",
   "execution_count": 21,
   "metadata": {
    "colab": {
     "base_uri": "https://localhost:8080/",
     "height": 34
    },
    "colab_type": "code",
    "id": "mU44vzdZ2Sjm",
    "outputId": "72e68b71-8dca-40b4-f6b5-c81c82ea8eb2"
   },
   "outputs": [
    {
     "data": {
      "text/plain": [
       "[2.5790250301361084, 0.23509933054447174]"
      ]
     },
     "execution_count": 21,
     "metadata": {
      "tags": []
     },
     "output_type": "execute_result"
    }
   ],
   "source": [
    "vgg.model.evaluate_generator(validation_generator)"
   ]
  },
  {
   "cell_type": "code",
   "execution_count": 22,
   "metadata": {
    "colab": {
     "base_uri": "https://localhost:8080/",
     "height": 34
    },
    "colab_type": "code",
    "id": "8da25SL92Sjv",
    "outputId": "e85ad7ba-50d7-40a0-fed5-29090e56fdc9"
   },
   "outputs": [
    {
     "data": {
      "text/plain": [
       "[2.579019784927368, 0.23529411852359772]"
      ]
     },
     "execution_count": 22,
     "metadata": {
      "tags": []
     },
     "output_type": "execute_result"
    }
   ],
   "source": [
    "vgg.model.evaluate_generator(test_generator)"
   ]
  },
  {
   "cell_type": "markdown",
   "metadata": {
    "colab_type": "text",
    "id": "jAEtlMmMdEko"
   },
   "source": [
    "Visualizing Accuracy and Loss "
   ]
  },
  {
   "cell_type": "code",
   "execution_count": 23,
   "metadata": {
    "colab": {
     "base_uri": "https://localhost:8080/",
     "height": 545
    },
    "colab_type": "code",
    "id": "duHw4GITdEko",
    "outputId": "f907ae14-bef4-47a3-88d0-61185239f1ed"
   },
   "outputs": [
    {
     "data": {
      "image/png": "[encoded data removed]",
      "text/plain": [
       "<Figure size 432x288 with 1 Axes>"
      ]
     },
     "metadata": {
      "needs_background": "light",
      "tags": []
     },
     "output_type": "display_data"
    },
    {
     "data": {
      "image/png": "[encoded data removed]",
      "text/plain": [
       "<Figure size 432x288 with 1 Axes>"
      ]
     },
     "metadata": {
      "needs_background": "light",
      "tags": []
     },
     "output_type": "display_data"
    }
   ],
   "source": [
    "val_acc = vgg.history['val_acc']\n",
    "val_loss = vgg.history['val_loss']\n",
    "acc = vgg.history['acc']\n",
    "loss = vgg.history['loss']\n",
    "\n",
    "# Plot training & validation accuracy values\n",
    "plt.plot(range(50), acc, 'b*-', label = 'Training accuracy')\n",
    "plt.plot(range(50), val_acc, 'r', label = 'Validation accuracy')\n",
    "plt.title('Training and validation accuracy - VGG')\n",
    "plt.legend()\n",
    "plt.show()\n",
    "\n",
    "# Plot training & validation loss values\n",
    "plt.plot(range(50), loss, 'b*-', label = 'Training loss')\n",
    "plt.plot(range(50), val_loss, 'r', label = 'Validation loss')\n",
    "plt.title('Training and validation loss - VGG')\n",
    "plt.legend()\n",
    "plt.show()"
   ]
  },
  {
   "cell_type": "markdown",
   "metadata": {
    "colab_type": "text",
    "id": "XD4jtvdezXkD"
   },
   "source": [
    "#**Random Sampling of 4 Images for Multiclass Classification**\n",
    "Combining the 4 Images\n"
   ]
  },
  {
   "cell_type": "code",
   "execution_count": 24,
   "metadata": {
    "colab": {
     "base_uri": "https://localhost:8080/",
     "height": 34
    },
    "colab_type": "code",
    "id": "BNfKkPYizW_S",
    "outputId": "9ee978d3-4498-4705-e9ce-9ccf6a9d57d1"
   },
   "outputs": [
    {
     "name": "stdout",
     "output_type": "stream",
     "text": [
      "Images have been generated and saved\n"
     ]
    }
   ],
   "source": [
    "img_type=[] #lists the type of 4 images selected at random \n",
    "img_filename=[] #lists the filename of the images selected at random\n",
    "\n",
    "n=100 #number of multiclass images\n",
    "\n",
    "for i in range(n):\n",
    "  files=[]  #List of paths of the 4 images selected at random\n",
    "  waste_types = ['cardboard','glass','metal','paper','plastic','trash']\n",
    "  image_type=[] #saves the type of image for each iteration\n",
    "  for j in range(4):\n",
    "    path = \"data/train/\"\n",
    "    folder=random.choice(waste_types)\n",
    "    if folder in image_type:\n",
    "      folder=random.choice(waste_types)\n",
    "    image_type.append(folder)\n",
    "    path = path +folder\n",
    "    random_filename = random.choice([\n",
    "        x for x in os.listdir(path)\n",
    "        if os.path.isfile(os.path.join(path, x))\n",
    "    ])\n",
    "    files.append(path+\"/\"+random_filename)\n",
    "\n",
    "  img_type.append(image_type)\n",
    "\n",
    "#loading the chosen images\n",
    "  img1=Image.open(files[0])\n",
    "  img1=img1.resize((112,112))\n",
    "  img2=Image.open(files[1])\n",
    "  img2=img2.resize((112,112))\n",
    "  img3=Image.open(files[2])\n",
    "  img3=img3.resize((112,112))\n",
    "  img4=Image.open(files[3])\n",
    "  img4=img4.resize((112,112))\n",
    "\n",
    "#creating a blank image of required size\n",
    "  img= Image.new('YCbCr', (224,224), 'white')\n",
    "#pasting the selected images into the above image\n",
    "  img.paste(img1,(0,0,112,112))\n",
    "  img.paste(img2,(112,0,224,112))\n",
    "  img.paste(img3,(0,112,112,224))\n",
    "  img.paste(img4,(112,112,224,224))\n",
    "  img.show()\n",
    "  dic='data/Random 4x4/'\n",
    "  filename='img'+str(i)+'.jpg'\n",
    "  img_filename.append(filename)\n",
    "  img.save(dic + filename)\n",
    "print(\"Images have been generated and saved\")"
   ]
  },
  {
   "cell_type": "markdown",
   "metadata": {
    "colab_type": "text",
    "id": "aZubiIXMB9pO"
   },
   "source": [
    "Creating dataframe of the file name and classes\n"
   ]
  },
  {
   "cell_type": "code",
   "execution_count": 10,
   "metadata": {
    "colab": {
     "base_uri": "https://localhost:8080/",
     "height": 195
    },
    "colab_type": "code",
    "id": "7FD91ZNNnLFS",
    "outputId": "70fa2778-cafb-4ee5-c16d-36e6c9818854"
   },
   "outputs": [
    {
     "data": {
      "text/html": [
       "<div>\n",
       "<style scoped>\n",
       "    .dataframe tbody tr th:only-of-type {\n",
       "        vertical-align: middle;\n",
       "    }\n",
       "\n",
       "    .dataframe tbody tr th {\n",
       "        vertical-align: top;\n",
       "    }\n",
       "\n",
       "    .dataframe thead th {\n",
       "        text-align: right;\n",
       "    }\n",
       "</style>\n",
       "<table border=\"1\" class=\"dataframe\">\n",
       "  <thead>\n",
       "    <tr style=\"text-align: right;\">\n",
       "      <th></th>\n",
       "      <th>Name</th>\n",
       "      <th>Classes</th>\n",
       "    </tr>\n",
       "  </thead>\n",
       "  <tbody>\n",
       "    <tr>\n",
       "      <th>0</th>\n",
       "      <td>img0.jpg</td>\n",
       "      <td>[paper, cardboard, metal, plastic]</td>\n",
       "    </tr>\n",
       "    <tr>\n",
       "      <th>1</th>\n",
       "      <td>img1.jpg</td>\n",
       "      <td>[metal, cardboard, trash, paper]</td>\n",
       "    </tr>\n",
       "    <tr>\n",
       "      <th>2</th>\n",
       "      <td>img2.jpg</td>\n",
       "      <td>[glass, trash, plastic, paper]</td>\n",
       "    </tr>\n",
       "    <tr>\n",
       "      <th>3</th>\n",
       "      <td>img3.jpg</td>\n",
       "      <td>[plastic, metal, trash, paper]</td>\n",
       "    </tr>\n",
       "    <tr>\n",
       "      <th>4</th>\n",
       "      <td>img4.jpg</td>\n",
       "      <td>[cardboard, plastic, glass, trash]</td>\n",
       "    </tr>\n",
       "  </tbody>\n",
       "</table>\n",
       "</div>"
      ],
      "text/plain": [
       "       Name                             Classes\n",
       "0  img0.jpg  [paper, cardboard, metal, plastic]\n",
       "1  img1.jpg    [metal, cardboard, trash, paper]\n",
       "2  img2.jpg      [glass, trash, plastic, paper]\n",
       "3  img3.jpg      [plastic, metal, trash, paper]\n",
       "4  img4.jpg  [cardboard, plastic, glass, trash]"
      ]
     },
     "execution_count": 10,
     "metadata": {
      "tags": []
     },
     "output_type": "execute_result"
    }
   ],
   "source": [
    "df={'Name': img_filename,\n",
    "    'Classes':img_type}\n",
    "img_random=pd.DataFrame(df)\n",
    "img_random.head(5)"
   ]
  },
  {
   "cell_type": "markdown",
   "metadata": {
    "colab_type": "text",
    "id": "FmGjj4VDCAFa"
   },
   "source": [
    "Generating the image\n"
   ]
  },
  {
   "cell_type": "code",
   "execution_count": 11,
   "metadata": {
    "colab": {
     "base_uri": "https://localhost:8080/",
     "height": 34
    },
    "colab_type": "code",
    "id": "yEGfSFMh7sxs",
    "outputId": "3a731ff3-eb04-45dd-b5d5-d68f36df0d24"
   },
   "outputs": [
    {
     "name": "stdout",
     "output_type": "stream",
     "text": [
      "Found 100 validated image filenames belonging to 6 classes.\n"
     ]
    }
   ],
   "source": [
    "random_generator = image_augment.flow_from_dataframe(img_random,\n",
    "                                        directory='data/Random 4x4',\n",
    "                                        target_size=(image_size,image_size),\n",
    "                                        x_col=\"Name\",\n",
    "                                        y_col=\"Classes\",\n",
    "                                        class_mode='categorical',\n",
    "                                        shuffle=False,\n",
    "                                        seed=42)"
   ]
  },
  {
   "cell_type": "markdown",
   "metadata": {
    "colab_type": "text",
    "id": "x8bX2mx7CJQw"
   },
   "source": [
    "Loading the model\n"
   ]
  },
  {
   "cell_type": "code",
   "execution_count": 0,
   "metadata": {
    "colab": {},
    "colab_type": "code",
    "id": "RybeAtv58W44"
   },
   "outputs": [],
   "source": [
    "cnn= models.load_model('/content/drive/My Drive/My Models/cnn.h5')"
   ]
  },
  {
   "cell_type": "markdown",
   "metadata": {
    "colab_type": "text",
    "id": "Km0JgA8wCMpT"
   },
   "source": [
    "Predicting the classes"
   ]
  },
  {
   "cell_type": "code",
   "execution_count": 13,
   "metadata": {
    "colab": {
     "base_uri": "https://localhost:8080/",
     "height": 1000
    },
    "colab_type": "code",
    "id": "rg-9wUDUCgHF",
    "outputId": "84a08647-399b-4cb0-9e90-b9a9914bc896"
   },
   "outputs": [
    {
     "name": "stdout",
     "output_type": "stream",
     "text": [
      "4/4 [==============================] - 7s 2s/step\n"
     ]
    },
    {
     "data": {
      "text/plain": [
       "array([[1.99567303e-02, 2.33286479e-03, 3.27905506e-01, 6.35316968e-01,\n",
       "        1.41953276e-02, 2.92556564e-04],\n",
       "       [6.35060817e-02, 2.82465369e-02, 2.08847001e-01, 6.71545565e-01,\n",
       "        1.44464271e-02, 1.34084756e-02],\n",
       "       [1.71976566e-01, 6.55429661e-02, 4.31232564e-02, 6.69608295e-01,\n",
       "        4.52027433e-02, 4.54614405e-03],\n",
       "       [1.00606695e-01, 1.22871399e-01, 2.10242495e-01, 4.74779844e-01,\n",
       "        8.68057236e-02, 4.69386112e-03],\n",
       "       [2.38896579e-01, 1.55688152e-01, 2.22740203e-01, 1.73315406e-01,\n",
       "        4.43085581e-02, 1.65051073e-01],\n",
       "       [2.31565252e-01, 1.25663668e-01, 1.43121734e-01, 3.51698995e-01,\n",
       "        8.53403732e-02, 6.26099259e-02],\n",
       "       [2.16561824e-01, 2.52491266e-01, 3.02819192e-01, 5.50167151e-02,\n",
       "        1.70192912e-01, 2.91801593e-03],\n",
       "       [1.45402133e-01, 1.60811216e-01, 7.98948333e-02, 4.07332093e-01,\n",
       "        1.74627542e-01, 3.19321863e-02],\n",
       "       [1.22898735e-01, 2.89195120e-01, 1.32607415e-01, 2.03388140e-01,\n",
       "        1.21181086e-01, 1.30729422e-01],\n",
       "       [7.64092952e-02, 1.87524050e-01, 2.01734141e-01, 4.20852035e-01,\n",
       "        1.08378462e-01, 5.10198809e-03],\n",
       "       [4.22573835e-01, 5.69375530e-02, 2.77002603e-01, 2.04512358e-01,\n",
       "        1.47499358e-02, 2.42236778e-02],\n",
       "       [1.73833631e-02, 3.06821644e-01, 5.75901687e-01, 8.66812095e-02,\n",
       "        1.26432879e-02, 5.68731804e-04],\n",
       "       [1.81241065e-01, 1.79902166e-01, 1.61056817e-01, 2.51866937e-01,\n",
       "        1.41117513e-01, 8.48154873e-02],\n",
       "       [1.00552030e-01, 2.41987243e-01, 2.27049410e-01, 2.35813677e-01,\n",
       "        9.42457840e-02, 1.00351930e-01],\n",
       "       [1.70773342e-01, 1.06930532e-01, 2.25340769e-01, 4.18931842e-01,\n",
       "        4.66836058e-02, 3.13399099e-02],\n",
       "       [7.70293534e-01, 4.74074483e-02, 1.53648019e-01, 8.90268420e-04,\n",
       "        2.16163751e-02, 6.14439044e-03],\n",
       "       [1.00032523e-01, 1.75496235e-01, 1.64480984e-01, 2.82518297e-01,\n",
       "        1.61739558e-01, 1.15732446e-01],\n",
       "       [2.36248553e-01, 5.54601057e-03, 1.88592985e-01, 5.66246867e-01,\n",
       "        2.56604701e-03, 7.99517904e-04],\n",
       "       [8.49661604e-02, 3.15803476e-02, 3.65236759e-01, 5.05129695e-01,\n",
       "        1.00646140e-02, 3.02242348e-03],\n",
       "       [9.48377177e-02, 1.49084091e-01, 7.55308121e-02, 5.28603196e-01,\n",
       "        1.22840106e-01, 2.91039944e-02],\n",
       "       [7.58081302e-02, 1.89089134e-01, 1.98023036e-01, 3.22448492e-01,\n",
       "        1.01869822e-01, 1.12761378e-01],\n",
       "       [3.32156241e-01, 1.67136371e-01, 2.06422284e-01, 2.12362081e-01,\n",
       "        7.03619570e-02, 1.15610203e-02],\n",
       "       [4.39121217e-01, 1.54575363e-01, 1.37273788e-01, 1.30232066e-01,\n",
       "        8.52781609e-02, 5.35193831e-02],\n",
       "       [1.12744041e-01, 1.93681389e-01, 2.28352919e-01, 2.71954924e-01,\n",
       "        1.29230320e-01, 6.40363991e-02],\n",
       "       [2.01588735e-01, 2.26328865e-01, 2.39975944e-01, 2.04203248e-01,\n",
       "        9.53060836e-02, 3.25970910e-02],\n",
       "       [6.75736517e-02, 2.67679155e-01, 4.39148694e-01, 1.70138747e-01,\n",
       "        5.51874042e-02, 2.72445759e-04],\n",
       "       [1.62955940e-01, 4.16959226e-02, 1.07203253e-01, 6.34085655e-01,\n",
       "        3.09186373e-02, 2.31405105e-02],\n",
       "       [3.47492188e-01, 1.41939491e-01, 2.91914582e-01, 1.06567740e-01,\n",
       "        3.93195562e-02, 7.27663711e-02],\n",
       "       [7.87755623e-02, 3.16246748e-01, 3.12369287e-01, 1.82712749e-01,\n",
       "        9.99552310e-02, 9.94043238e-03],\n",
       "       [8.20880234e-02, 1.91678241e-01, 1.15621328e-01, 3.85416001e-01,\n",
       "        1.37580708e-01, 8.76156911e-02],\n",
       "       [2.54440755e-02, 3.10952872e-01, 3.91887665e-01, 1.65477842e-01,\n",
       "        1.02602296e-01, 3.63516505e-03],\n",
       "       [6.41615838e-02, 2.66840637e-01, 1.38738230e-01, 2.64560580e-01,\n",
       "        2.41076663e-01, 2.46223845e-02],\n",
       "       [6.06330812e-01, 9.29617807e-02, 2.72015780e-01, 1.95359234e-02,\n",
       "        6.76414696e-03, 2.39150599e-03],\n",
       "       [2.51162145e-02, 2.00564638e-01, 7.68556416e-01, 1.22006866e-04,\n",
       "        5.64048067e-03, 2.53045187e-07],\n",
       "       [6.28429234e-01, 8.49843323e-02, 1.78414226e-01, 5.93018010e-02,\n",
       "        4.44417074e-02, 4.42870520e-03],\n",
       "       [7.29458556e-02, 2.94699878e-01, 2.95496792e-01, 1.99733287e-01,\n",
       "        8.79512429e-02, 4.91729751e-02],\n",
       "       [5.13692081e-01, 1.21664532e-01, 3.52439225e-01, 5.60978102e-03,\n",
       "        6.58477424e-03, 9.56135955e-06],\n",
       "       [2.87614882e-01, 3.67898971e-01, 1.36551827e-01, 2.73427851e-02,\n",
       "        1.19487725e-01, 6.11038394e-02],\n",
       "       [8.86264265e-01, 1.84978526e-02, 9.13506225e-02, 9.79761389e-05,\n",
       "        2.08240701e-03, 1.70688657e-03],\n",
       "       [1.92090124e-01, 1.81154057e-01, 1.94674954e-01, 2.66924649e-01,\n",
       "        3.47481072e-02, 1.30408093e-01],\n",
       "       [1.30115420e-01, 3.59434128e-01, 3.62644315e-01, 3.13984230e-02,\n",
       "        1.11902706e-01, 4.50501731e-03],\n",
       "       [1.39033757e-02, 1.48039252e-01, 5.30575454e-01, 2.54906654e-01,\n",
       "        5.10270298e-02, 1.54823682e-03],\n",
       "       [5.24430692e-01, 8.32091495e-02, 1.83366030e-01, 3.04600820e-02,\n",
       "        1.09048232e-01, 6.94857538e-02],\n",
       "       [1.36328906e-01, 1.90328091e-01, 1.34607673e-01, 2.33603075e-01,\n",
       "        1.81787863e-01, 1.23344399e-01],\n",
       "       [2.98302561e-01, 6.55296370e-02, 1.15611427e-01, 4.71336156e-01,\n",
       "        3.28724794e-02, 1.63477901e-02],\n",
       "       [4.15120661e-01, 9.78214219e-02, 1.16053678e-01, 2.82937318e-01,\n",
       "        4.89584319e-02, 3.91084738e-02],\n",
       "       [8.21842253e-02, 3.83319318e-01, 3.97938550e-01, 3.64029454e-03,\n",
       "        1.32665530e-01, 2.52007972e-04],\n",
       "       [9.52241197e-02, 2.54440427e-01, 1.99639842e-01, 1.88160196e-01,\n",
       "        2.36736521e-01, 2.57989019e-02],\n",
       "       [2.76179343e-01, 1.97884724e-01, 2.16653466e-01, 1.13130763e-01,\n",
       "        9.95362252e-02, 9.66154709e-02],\n",
       "       [2.21396927e-02, 4.15303022e-01, 3.87626618e-01, 8.46373960e-02,\n",
       "        8.96901414e-02, 6.03063963e-04],\n",
       "       [1.39088973e-01, 2.22741812e-02, 2.90085375e-01, 5.39074779e-01,\n",
       "        6.06318656e-03, 3.41345766e-03],\n",
       "       [2.30652839e-01, 1.20419569e-01, 5.94753206e-01, 4.35185097e-02,\n",
       "        8.09952337e-03, 2.55642971e-03],\n",
       "       [7.30281472e-02, 2.94835091e-01, 3.59461486e-01, 2.09841102e-01,\n",
       "        5.73195852e-02, 5.51458867e-03],\n",
       "       [6.13039248e-02, 2.96936750e-01, 3.92092139e-01, 1.65315121e-01,\n",
       "        8.31545442e-02, 1.19759026e-03],\n",
       "       [1.05101235e-01, 6.84752017e-02, 4.18780863e-01, 2.53085345e-01,\n",
       "        6.06530011e-02, 9.39042866e-02],\n",
       "       [8.01516175e-02, 2.42806390e-01, 1.08811572e-01, 3.09046566e-01,\n",
       "        1.91253453e-01, 6.79304525e-02],\n",
       "       [7.65753612e-02, 2.12244332e-01, 2.11331025e-01, 1.98333696e-01,\n",
       "        1.40457064e-01, 1.61058530e-01],\n",
       "       [9.48281512e-02, 5.42714968e-02, 2.58455247e-01, 5.34441292e-01,\n",
       "        5.19256033e-02, 6.07818505e-03],\n",
       "       [1.31409302e-01, 3.46826106e-01, 4.05169338e-01, 8.53047371e-02,\n",
       "        2.26286519e-02, 8.66176561e-03],\n",
       "       [1.15826525e-01, 8.95819589e-02, 5.00367820e-01, 2.78720945e-01,\n",
       "        1.05067315e-02, 4.99600545e-03],\n",
       "       [4.85889882e-01, 8.49159732e-02, 1.56631097e-01, 1.08617894e-01,\n",
       "        4.17843089e-02, 1.22160852e-01],\n",
       "       [7.32105300e-02, 3.97932269e-02, 5.89627028e-01, 2.88902223e-01,\n",
       "        6.71970844e-03, 1.74729514e-03],\n",
       "       [9.61373821e-02, 2.38814652e-01, 1.86952472e-01, 1.48974493e-01,\n",
       "        1.88539311e-01, 1.40581682e-01],\n",
       "       [4.95358929e-02, 2.99419463e-01, 1.73395649e-01, 1.70860142e-01,\n",
       "        3.04377466e-01, 2.41138437e-03],\n",
       "       [9.01090205e-02, 1.39459684e-01, 1.21492885e-01, 5.07723749e-01,\n",
       "        1.13953300e-01, 2.72613224e-02],\n",
       "       [9.38062966e-02, 1.76658213e-01, 2.68575609e-01, 3.14269483e-01,\n",
       "        9.47619006e-02, 5.19284755e-02],\n",
       "       [3.04875940e-01, 6.01750016e-02, 2.93490142e-01, 2.44183704e-01,\n",
       "        9.18356702e-02, 5.43944957e-03],\n",
       "       [8.11137706e-02, 1.98359802e-01, 2.65947729e-01, 2.42449284e-01,\n",
       "        2.11633071e-01, 4.96387773e-04],\n",
       "       [1.13437161e-01, 1.70140583e-02, 7.38899857e-02, 7.80424178e-01,\n",
       "        9.90381464e-03, 5.33080800e-03],\n",
       "       [5.10551892e-02, 3.44025522e-01, 3.71546090e-01, 1.29139557e-01,\n",
       "        8.85653570e-02, 1.56682972e-02],\n",
       "       [2.89654322e-02, 4.10453767e-01, 3.15732062e-01, 2.08503753e-02,\n",
       "        2.23833755e-01, 1.64653859e-04],\n",
       "       [6.08069636e-02, 2.13775903e-01, 2.66721398e-01, 2.55879253e-01,\n",
       "        1.20146878e-01, 8.26695412e-02],\n",
       "       [3.13977385e-03, 2.94316590e-01, 6.42985225e-01, 4.13872041e-02,\n",
       "        1.61971506e-02, 1.97404600e-03],\n",
       "       [1.56728715e-01, 7.95752257e-02, 1.65889814e-01, 5.38909078e-01,\n",
       "        3.64957899e-02, 2.24014148e-02],\n",
       "       [3.17600489e-01, 1.39028624e-01, 2.27678031e-01, 2.48430684e-01,\n",
       "        5.73109910e-02, 9.95114446e-03],\n",
       "       [2.74118513e-01, 8.28485414e-02, 5.63341901e-02, 5.30000329e-01,\n",
       "        4.80571017e-02, 8.64139199e-03],\n",
       "       [1.30250067e-01, 2.32964531e-01, 1.85717717e-01, 3.74543399e-01,\n",
       "        7.32879862e-02, 3.23626446e-03],\n",
       "       [2.51181773e-03, 6.06363833e-01, 2.64857233e-01, 4.69558057e-04,\n",
       "        1.25784263e-01, 1.33160829e-05],\n",
       "       [9.96897742e-02, 1.62720338e-01, 5.54408878e-02, 4.66722548e-01,\n",
       "        1.70054168e-01, 4.53723297e-02],\n",
       "       [8.17302763e-02, 2.20603406e-01, 3.95600915e-01, 1.56021759e-01,\n",
       "        1.45596102e-01, 4.47578437e-04],\n",
       "       [9.84209403e-02, 1.51167929e-01, 2.23166451e-01, 3.45271468e-01,\n",
       "        1.14527605e-01, 6.74456134e-02],\n",
       "       [5.22834100e-02, 1.50367647e-01, 3.21831375e-01, 3.62400144e-01,\n",
       "        8.35132748e-02, 2.96041612e-02],\n",
       "       [3.28843504e-01, 9.76439267e-02, 1.79061294e-01, 2.04383269e-01,\n",
       "        1.22542813e-01, 6.75251707e-02],\n",
       "       [2.61186749e-01, 1.05364993e-01, 6.32968426e-01, 3.46946355e-04,\n",
       "        1.28655971e-04, 4.22639187e-06],\n",
       "       [8.46662745e-02, 2.04206511e-01, 8.72860029e-02, 4.01313573e-01,\n",
       "        1.90233201e-01, 3.22944783e-02],\n",
       "       [5.75873792e-01, 1.13996059e-01, 1.11159854e-01, 1.90155320e-02,\n",
       "        7.06274062e-02, 1.09327354e-01],\n",
       "       [1.20974205e-01, 6.13701165e-01, 1.08835265e-01, 5.04731908e-02,\n",
       "        1.04657426e-01, 1.35878136e-03],\n",
       "       [1.79268464e-01, 1.81392133e-01, 1.92039862e-01, 2.09346548e-01,\n",
       "        1.01445295e-01, 1.36507660e-01],\n",
       "       [5.02214730e-02, 2.59888619e-01, 9.85713899e-02, 2.12942377e-01,\n",
       "        3.61308962e-01, 1.70671642e-02],\n",
       "       [9.69227105e-02, 2.21158415e-01, 5.06815016e-01, 1.09746568e-01,\n",
       "        6.05083443e-02, 4.84894682e-03],\n",
       "       [1.80082127e-01, 8.17368999e-02, 1.22228138e-01, 5.15163064e-01,\n",
       "        5.28480522e-02, 4.79417406e-02],\n",
       "       [1.57368451e-01, 4.05966610e-01, 3.01336497e-01, 1.95092931e-02,\n",
       "        1.12263501e-01, 3.55572323e-03],\n",
       "       [1.20021299e-01, 1.57877222e-01, 1.68178067e-01, 3.23278069e-01,\n",
       "        1.33257210e-01, 9.73880887e-02],\n",
       "       [3.45260166e-02, 9.73330438e-02, 5.16827047e-01, 2.57677436e-01,\n",
       "        6.49598520e-03, 8.71404558e-02],\n",
       "       [9.53251198e-02, 2.10426301e-01, 1.40159726e-01, 2.33441338e-01,\n",
       "        1.70742005e-01, 1.49905518e-01],\n",
       "       [1.40881687e-01, 1.07713670e-01, 4.38946486e-01, 2.58514553e-01,\n",
       "        6.04997855e-03, 4.78936434e-02],\n",
       "       [6.44909590e-02, 5.54937348e-02, 5.56918904e-02, 7.44725466e-01,\n",
       "        7.28833526e-02, 6.71455031e-03],\n",
       "       [9.94580835e-02, 3.28924060e-02, 2.33232588e-01, 5.99045873e-01,\n",
       "        1.32736741e-02, 2.20973808e-02],\n",
       "       [1.13103613e-01, 1.40686497e-01, 1.72478542e-01, 3.46168160e-01,\n",
       "        1.36685371e-01, 9.08777937e-02],\n",
       "       [6.27535641e-01, 9.99332368e-02, 4.28228304e-02, 6.45199791e-02,\n",
       "        1.07940815e-01, 5.72475083e-02]], dtype=float32)"
      ]
     },
     "execution_count": 13,
     "metadata": {
      "tags": []
     },
     "output_type": "execute_result"
    }
   ],
   "source": [
    "pred=cnn.predict(random_generator, verbose=1)\n",
    "pred"
   ]
  },
  {
   "cell_type": "markdown",
   "metadata": {
    "colab_type": "text",
    "id": "Y-1ovTZbCP5d"
   },
   "source": [
    "Extracting the top 4 classes based on the probablities"
   ]
  },
  {
   "cell_type": "code",
   "execution_count": 0,
   "metadata": {
    "colab": {},
    "colab_type": "code",
    "id": "vsTO6vrpDo7R"
   },
   "outputs": [],
   "source": [
    "pred_class=[]\n",
    "\n",
    "for k in range(n):\n",
    "  a=[]\n",
    "  prob_dict={'cardboard': pred[k][0], 'glass' : pred[k][1], 'metal' : pred[k][2], 'paper' : pred[k][3], 'plastic' : pred[k][4], 'trash' : pred[k][5]}\n",
    "  for i in range(4):\n",
    "    temp = max(prob_dict, key= prob_dict.get)\n",
    "    a.append(temp)\n",
    "    del(prob_dict[temp])\n",
    "  pred_class.append(a)"
   ]
  },
  {
   "cell_type": "markdown",
   "metadata": {
    "colab_type": "text",
    "id": "mp7Kb-7fT1Om"
   },
   "source": [
    "Calculating Accuracy"
   ]
  },
  {
   "cell_type": "code",
   "execution_count": 15,
   "metadata": {
    "colab": {
     "base_uri": "https://localhost:8080/",
     "height": 34
    },
    "colab_type": "code",
    "id": "QUur4yhUGrD2",
    "outputId": "3f3084c5-b799-4946-b7a6-aa99716270d6"
   },
   "outputs": [
    {
     "name": "stdout",
     "output_type": "stream",
     "text": [
      "Accuracy =  72.25 %\n"
     ]
    }
   ],
   "source": [
    "# Depending on correct prediction of classes within an image the accuracy is calculated to be 0 if none, 0.25 if one class is predicted correctly and so on\n",
    "\n",
    "import collections\n",
    "prob=[]\n",
    "for i in range(n):\n",
    "  a=pred_class[i]\n",
    "  b=img_type[i]\n",
    "  c=0\n",
    "  for j in range(4):\n",
    "    for k in range(4):\n",
    "      if a[j] == b[k]:\n",
    "        c= c+0.25\n",
    "  prob.append(c)\n",
    "\n",
    "print(\"Accuracy = \",(sum(prob)/n)*100, \"%\")"
   ]
  },
  {
   "cell_type": "markdown",
   "metadata": {
    "colab_type": "text",
    "id": "ZFSDQmw0CXzN"
   },
   "source": [
    "Visualising the results"
   ]
  },
  {
   "cell_type": "code",
   "execution_count": 18,
   "metadata": {
    "colab": {
     "base_uri": "https://localhost:8080/",
     "height": 386
    },
    "colab_type": "code",
    "id": "pwggCIVU95r9",
    "outputId": "29a3508f-e8e3-4a5c-c8ce-7d854cb82671"
   },
   "outputs": [
    {
     "name": "stdout",
     "output_type": "stream",
     "text": [
      "Predicted Classes:  ['metal', 'glass', 'cardboard', 'plastic']\n",
      "\n",
      "\n",
      "Actual Classes:  ['glass', 'paper', 'plastic', 'metal']\n",
      "\n",
      "\n"
     ]
    },
    {
     "data": {
      "text/plain": [
       "<matplotlib.image.AxesImage at 0x7f6323a9a668>"
      ]
     },
     "execution_count": 18,
     "metadata": {
      "tags": []
     },
     "output_type": "execute_result"
    },
    {
     "data": {
      "image/png": "[encoded data removed]",
      "text/plain": [
       "<Figure size 432x288 with 1 Axes>"
      ]
     },
     "metadata": {
      "needs_background": "light",
      "tags": []
     },
     "output_type": "display_data"
    }
   ],
   "source": [
    "x=random.randint(0,n)\n",
    "print('Predicted Classes: ', pred_class[x])\n",
    "print(\"\\n\")\n",
    "print(\"Actual Classes: \", img_type[x])\n",
    "print(\"\\n\")\n",
    "filename='img'+str(x)+'.jpg'\n",
    "path= 'data/Random 4x4/' + filename\n",
    "image=Image.open(path)\n",
    "plt.imshow(image, cmap=plt.cm.binary)\n"
   ]
  }
 ],
 "metadata": {
  "accelerator": "GPU",
  "colab": {
   "collapsed_sections": [
    "kDTIt8R_eOVw",
    "0QflEHd3IQB-",
    "hF-Rh5Sk3uQz",
    "aYl6HoHgZ-q1",
    "2Xl2nqltqY7E",
    "XD4jtvdezXkD"
   ],
   "name": "Garbage_Classification_Final.ipynb",
   "provenance": []
  },
  "kernelspec": {
   "display_name": "Python 3",
   "language": "python",
   "name": "python3"
  },
  "language_info": {
   "codemirror_mode": {
    "name": "ipython",
    "version": 3
   },
   "file_extension": ".py",
   "mimetype": "text/x-python",
   "name": "python",
   "nbconvert_exporter": "python",
   "pygments_lexer": "ipython3",
   "version": "3.7.1"
  }
 },
 "nbformat": 4,
 "nbformat_minor": 1
}
